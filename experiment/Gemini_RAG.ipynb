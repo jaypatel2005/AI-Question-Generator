{
 "cells": [
  {
   "cell_type": "code",
   "execution_count": 1,
   "metadata": {},
   "outputs": [],
   "source": [
    "from dotenv import load_dotenv\n",
    "import os\n",
    "\n",
    "load_dotenv()\n",
    "key = os.getenv(\"GEMINI_KEY\")"
   ]
  },
  {
   "cell_type": "code",
   "execution_count": 19,
   "metadata": {},
   "outputs": [],
   "source": [
    "from IPython.display import Markdown\n",
    "import textwrap\n",
    "\n",
    "def to_markdown(text):\n",
    "  \"\"\"Formats text into Markdown with proper bullet points and indentation.\n",
    "\n",
    "  Args:\n",
    "      text: The text string to be formatted.\n",
    "\n",
    "  Returns:\n",
    "      An IPython.display.Markdown object containing the formatted text.\n",
    "  \"\"\"\n",
    "  # Replace bullet point symbol (•) with asterisk (*) for Markdown\n",
    "  text = text.replace('•', '*')\n",
    "  # Indent the text for readability\n",
    "  return Markdown(textwrap.indent(text, '> ', predicate=lambda _: True))"
   ]
  },
  {
   "cell_type": "code",
   "execution_count": 2,
   "metadata": {},
   "outputs": [],
   "source": [
    "import urllib\n",
    "import warnings\n",
    "from pathlib import Path as p\n",
    "from pprint import pprint\n",
    "\n",
    "import pandas as pd\n",
    "from langchain import PromptTemplate\n",
    "from langchain.chains.question_answering import load_qa_chain\n",
    "from langchain.document_loaders import PyPDFLoader\n",
    "from langchain.text_splitter import RecursiveCharacterTextSplitter\n",
    "from langchain.vectorstores import Chroma\n",
    "from langchain.chains import RetrievalQA\n"
   ]
  },
  {
   "cell_type": "code",
   "execution_count": 3,
   "metadata": {},
   "outputs": [],
   "source": [
    "from langchain_google_genai import ChatGoogleGenerativeAI"
   ]
  },
  {
   "cell_type": "code",
   "execution_count": 4,
   "metadata": {},
   "outputs": [],
   "source": [
    "model = ChatGoogleGenerativeAI(model=\"gemini-pro\",google_api_key=key,\n",
    "                             temperature=0.3,convert_system_message_to_human=True)"
   ]
  },
  {
   "cell_type": "code",
   "execution_count": 5,
   "metadata": {},
   "outputs": [],
   "source": [
    "pdf_loader = PyPDFLoader(r\"c:\\Users\\jay59\\Downloads\\e-Notes_PDF_All-Units_09052019113530AM.pdf\")"
   ]
  },
  {
   "cell_type": "code",
   "execution_count": 6,
   "metadata": {},
   "outputs": [
    {
     "name": "stderr",
     "output_type": "stream",
     "text": [
      "invalid pdf header: b'\\r\\n\\r\\n\\r'\n",
      "incorrect startxref pointer(1)\n"
     ]
    }
   ],
   "source": [
    "pages = pdf_loader.load_and_split()"
   ]
  },
  {
   "cell_type": "code",
   "execution_count": 7,
   "metadata": {},
   "outputs": [
    {
     "name": "stdout",
     "output_type": "stream",
     "text": [
      "2 – Problems, State Space Search & \n",
      "Heuristic Search Techniques  \n",
      " \n",
      " 5 \n",
      " \n",
      "Gopi Sanghani, CE Department  | 2180703  – Artificial Intelligence  • To solve a problem, w e must specify the global database , the rules, and the control \n",
      "strategy.  \n",
      "• For the 8 puzzle problem that correspond to three components.  \n",
      "• These elements are the problem states, moves and goal.  \n",
      "• In this problem each tile configuration is a state.  \n",
      "• The set of  all possible configuration in the problem space, consists of 3,62,880  different \n",
      "configurations o f the 8 tiles and blank space.  \n",
      "• For the 8 -puzzle, a straight forward description is a 3X3 array of matrix of numbers. \n",
      "Initial global database is this description of the initial problem state. Virtually any kind of \n",
      "data structure can be used to describe states.  \n",
      "• A move transforms one problem state into another state.  \n",
      " \n",
      "Figure 1: Solution of 8 Puzzle problem  \n",
      " \n",
      "• The 8 -puzzle is conveniently interpreted as having the following for moves.\n"
     ]
    }
   ],
   "source": [
    "print(pages[8].page_content)"
   ]
  },
  {
   "cell_type": "code",
   "execution_count": 8,
   "metadata": {},
   "outputs": [
    {
     "data": {
      "text/plain": [
       "117"
      ]
     },
     "execution_count": 8,
     "metadata": {},
     "output_type": "execute_result"
    }
   ],
   "source": [
    "len(pages)"
   ]
  },
  {
   "cell_type": "code",
   "execution_count": 9,
   "metadata": {},
   "outputs": [],
   "source": [
    "from langchain_google_genai import GoogleGenerativeAIEmbeddings"
   ]
  },
  {
   "cell_type": "code",
   "execution_count": 10,
   "metadata": {},
   "outputs": [],
   "source": [
    "text_splitter = RecursiveCharacterTextSplitter(chunk_size=10000, chunk_overlap=1000)\n",
    "context = \"\\n\\n\".join(str(p.page_content) for p in pages)\n",
    "texts = text_splitter.split_text(context)"
   ]
  },
  {
   "cell_type": "code",
   "execution_count": 11,
   "metadata": {},
   "outputs": [
    {
     "name": "stdout",
     "output_type": "stream",
     "text": [
      "1 – What is AI?  \n",
      " \n",
      " 1 \n",
      " \n",
      "Gopi Sanghani , CE Department  | 21 80703  – Artificial Intelligence  Artificial Intelligence  \n",
      "• Artificial intelligence is the study of how to make computers do things which, at moment \n",
      "people do better.  \n",
      "• Artificial intelligence can be viewed from a variety of perspectives.  \n",
      "• From the perspective of intelligence, artificial intelligence is making machines \"intelligent\" -- \n",
      "acting as we would expect people to act.  \n",
      "o The inability to distinguish computer responses from human responses is called the \n",
      "Turing test.  \n",
      "o Intelligence requires knowledge.  \n",
      "• From a business perspective AI is a set of very powerful tools, and methodologies for using \n",
      "those tools to solve business problems.  \n",
      "• From a programming perspective, AI includes the study of symbolic programming, problem \n",
      "solving, and search.  \n",
      "o Typically AI programs f ocus on symbols rather than numeric processing.  \n",
      "o Problem solving i.e. to achieve a specific goal . \n",
      "o Search - rarely  access a solution directly. Search may include a variety of techniques.  \n",
      "• It is the science and engineering of making intelligent machines, espec ially intelligent \n",
      "computer programs.  \n",
      " \n",
      "AI Problems  \n",
      "• Much of the early work in the field of AI focused on formal tasks, such as game playing and \n",
      "theorem proving.  \n",
      "• Game playing and theorem proving share the property that people who do them well are \n",
      "considered to be displaying Intelligence . \n",
      "• Initially computers  could perform well at those tasks simply by being fast at exploring a large \n",
      "number of solution paths and then selecting the best one.  \n",
      "• Humans  learn mundane (ordinary) tasks since their birth. They learn by perception, \n",
      "speaking,  using language, and training . They learn Formal Tasks and E xpert Tasks later . \n",
      "• Another early foray into AI focused on commonsense reasoning, which includes reasoning \n",
      "about physical objects and their relationship to each other, as well as reasoning about \n",
      "actions and their consequences.   \n",
      "• As AI research progressed, techniques for handling large amount of world knowledge were \n",
      "developed.  \n",
      "• New tasks reasonably attempted such as perception, natural language understanding and \n",
      "problem solving in specialized domains.  \n",
      "• Some of the task domains of artificial intelligence are presented in table I.  \n",
      "• Earlier, all work of AI was concentrated in the mundane task domain.\n",
      "\n",
      "1 – What is AI?  \n",
      " \n",
      " 2 \n",
      " \n",
      "Gopi Sanghani , CE Department  | 21 80703  – Artificial Intelligence  Mundane tasks  Formal tasks  Expert tasks  \n",
      "Perception  \n",
      "− Computer Vision  \n",
      "− Speech, Voice  Games  \n",
      "− Go \n",
      "− Chess (Deep Blue)  \n",
      "− Ckeckers  Engineering  \n",
      "− Design  \n",
      "− Fault Finding  \n",
      "− Manufacturing  \n",
      "− Monitoring  \n",
      "Natural Language Processing  \n",
      "− Understanding  \n",
      "− Language Generation  \n",
      "− Language Translation  Mathematics  \n",
      "− Geometry  \n",
      "− Logic  \n",
      "− Integration and \n",
      "Differentiation  Scientific Analysis  \n",
      "Common Sense  Reasoning  Theorem Proving  Financial Analysis  \n",
      "Planning   Medical Diagnosis  \n",
      "Robot Control    \n",
      " \n",
      "Table I Task Domains of AI  \n",
      " \n",
      "• Later, it turned out that the machine requires more knowledge, complex knowledge \n",
      "representation, and complicated algorithms for handling mundane tasks.  \n",
      "• This is the reason why AI work is more flourishing  in the Expert Tasks domain now, as the \n",
      "expert task d omain needs expert knowledge without common sense, which can be easier to \n",
      "represent and handle.  \n",
      " \n",
      "What is an AI technique?  \n",
      "• Artificial intelligence problems span a very broad spectrum. They appear to have very little \n",
      "in common except that they are hard.  \n",
      "• AI Research of earlier decades results into the fact that intelligence requires knowledge.  \n",
      "• Knowledge possess following properties:  \n",
      "o It is voluminous.  \n",
      "o It is not well -organized or well -formatted.  \n",
      "o It is constantly changing.  \n",
      "o It differs from data. And it is organized in a way that corresponds to its usage.  \n",
      "• AI technique is a method that exploits knowledge that should be represented in such a way \n",
      "that:  \n",
      "o Knowledge captures generalization. Situations that share common properties are \n",
      "grouped together. Without th is property, inordinate amount of memory and \n",
      "modifications will be required.  \n",
      "o It can be understood by people who must provide it. Although bulk of data can \n",
      "be acquired automatically, in many AI domains most of the knowledge must \n",
      "ultimately be provided by pe ople in terms they understand.\n",
      "\n",
      "1 – What is AI?  \n",
      " \n",
      " 3 \n",
      " \n",
      "Gopi Sanghani , CE Department  | 21 80703  – Artificial Intelligence  o It can easily be modified to correct errors and to reflect changes in the world.  \n",
      "o It can be used in many situations  even though it may not be totally accurate or \n",
      "complete.  \n",
      "o It can be used to reduce its own volume by narrowing range of possibilities.  \n",
      "• There are three important AI techniques:  \n",
      "1. Search –  \n",
      "a. Provides a way of solving problems for which no direct approach is \n",
      "available.  \n",
      "b. It also provides a framework into which any direct technique s that are \n",
      "available can be embedded.  \n",
      "2. Use of knowledge – \n",
      "a. Provides a way of solving complex problems by exploiting the structure of \n",
      "the objects that are involved.  \n",
      "3. Abstraction –  \n",
      "a. Provides a way of separating important features and variations from \n",
      "many unimpor tant ones that would otherwise overwhelm any process.  \n",
      " \n",
      "Classification of AI  \n",
      "1. Weak AI: The study and design of machines that perform intelligent tasks.  \n",
      "o Not concerned with how tasks are performed, mostly concerned with performance \n",
      "and efficiency, such as solutions that are reasonable for NP -Complete problems. E.g., \n",
      "to make a flying machine, use logic and physics, don’t mimic a bird.  \n",
      "2. Strong AI: The study and design of machines that simulate the human min d to perform \n",
      "intelligent tasks.  \n",
      "o Borrow many ideas from psychology, neuroscience. Goal is to perform tasks the way \n",
      "a human might do them – which makes sense, since we do have models of human \n",
      "thought and problem solving.  \n",
      "o Includes psychological ideas in STM, LTM, forgetting, language, geneti cs, etc. \n",
      "Assumes that the physical symbol hypothesis holds.  \n",
      "3. Evolutionary AI. The study and design of machines that simulate simple creatures, and \n",
      "attempt to  evolve and have higher level emergent behavior. For example, ants, bees, etc.  \n",
      " \n",
      "Applications of A I  \n",
      "• AI has been dominant in various fields such as −  \n",
      "1. Gaming − AI plays vital role in strategic games such as chess, poker, tic -tac-toe, etc., \n",
      "where machine can think of large number of possible positions based on heuristic \n",
      "knowledge.  \n",
      "2. Natural Language Processing − It is possible to interact with the computer that\n",
      "\n",
      "1 – What is AI?  \n",
      " \n",
      " 4 \n",
      " \n",
      "Gopi Sanghani , CE Department  | 21 80703  – Artificial Intelligence  understands natural language spoken by humans.  \n",
      "3. Expert Systems − There are some applications which integrate machine, software, and \n",
      "special information to impart reasoning and a dvising. They provide explanation and \n",
      "advice to the users.  \n",
      "4. Computer Vision Systems − These systems understand, interpret, and comprehend \n",
      "visual input on the computer.  \n",
      "5. Speech Recognition − Some intelligent systems are capable of hearing and \n",
      "comprehending t he language in terms of sentences and their meanings while a human \n",
      "talks to it. It can handle different accents, slang words, noise in the background, change \n",
      "in human’s noise, etc.  \n",
      "6. Handwriting Recognition − The handwriting recognition software reads the t ext written \n",
      "on paper by a pen or on screen by a stylus. It can recognize the shapes of the letters and \n",
      "convert it into editable text.  \n",
      "7. Intelligent Robots − Robots are able to perform the tasks given by a human. They have \n",
      "sensors to detect physical data from the real world such as light, heat, temperature, \n",
      "movement, sound, bump, and pressure. They have efficient processors, multiple sensors \n",
      "and huge memory, to exhibit intelligence. In addition, they are capable of learning from \n",
      "their mistakes and they can  adapt to the new environment.\n"
     ]
    }
   ],
   "source": [
    "print(texts[0])"
   ]
  },
  {
   "cell_type": "code",
   "execution_count": 12,
   "metadata": {},
   "outputs": [],
   "source": [
    "embeddings = GoogleGenerativeAIEmbeddings(model=\"models/embedding-001\",google_api_key=key)"
   ]
  },
  {
   "cell_type": "code",
   "execution_count": 15,
   "metadata": {},
   "outputs": [],
   "source": [
    "vector_index = Chroma.from_texts(texts, embeddings).as_retriever(search_kwargs={\"k\":5})"
   ]
  },
  {
   "cell_type": "code",
   "execution_count": 16,
   "metadata": {},
   "outputs": [],
   "source": [
    "qa_chain = RetrievalQA.from_chain_type(\n",
    "    model,\n",
    "    retriever=vector_index,\n",
    "    return_source_documents=True\n",
    "\n",
    ")"
   ]
  },
  {
   "cell_type": "code",
   "execution_count": 29,
   "metadata": {},
   "outputs": [],
   "source": [
    "question = \"Explain the State space representation with water jug problem.\"\n",
    "result = qa_chain({\"query\": question})\n",
    "ans = result['result']"
   ]
  },
  {
   "cell_type": "code",
   "execution_count": 30,
   "metadata": {},
   "outputs": [
    {
     "data": {
      "text/markdown": [
       "> A State space is the set of all states reachable from the initial state.\n",
       "> A state space forms a graph in which the nodes are states and the arcs between nodes are actions.\n",
       "> In state space, a path is a sequence of states connected by a sequence of actions.\n",
       "> The solution of a problem is part of the graph formed by the state space.\n",
       "> \n",
       "> For the water jug problem, the state space representation is as follows:\n",
       "> \n",
       "> - A state is represented by a tuple (x, y) where x represents the amount of water in the 4-gallon jug and y represents the amount of water in the 3-gallon jug.\n",
       "> - The initial state is (0, 0).\n",
       "> - The goal state is (2, n) for any value of n.\n",
       "> - The operators are:\n",
       ">     - Fill the 4-gallon jug from the pump.\n",
       ">     - Fill the 3-gallon jug from the pump.\n",
       ">     - Empty the 4-gallon jug.\n",
       ">     - Empty the 3-gallon jug.\n",
       ">     - Pour water from the 4-gallon jug to the 3-gallon jug.\n",
       ">     - Pour water from the 3-gallon jug to the 4-gallon jug."
      ],
      "text/plain": [
       "<IPython.core.display.Markdown object>"
      ]
     },
     "execution_count": 30,
     "metadata": {},
     "output_type": "execute_result"
    }
   ],
   "source": [
    "to_markdown(ans)"
   ]
  },
  {
   "cell_type": "code",
   "execution_count": null,
   "metadata": {},
   "outputs": [],
   "source": []
  },
  {
   "cell_type": "code",
   "execution_count": null,
   "metadata": {},
   "outputs": [],
   "source": []
  }
 ],
 "metadata": {
  "kernelspec": {
   "display_name": "Python 3",
   "language": "python",
   "name": "python3"
  },
  "language_info": {
   "codemirror_mode": {
    "name": "ipython",
    "version": 3
   },
   "file_extension": ".py",
   "mimetype": "text/x-python",
   "name": "python",
   "nbconvert_exporter": "python",
   "pygments_lexer": "ipython3",
   "version": "3.11.2"
  }
 },
 "nbformat": 4,
 "nbformat_minor": 2
}
