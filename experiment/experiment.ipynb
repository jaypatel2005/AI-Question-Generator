{
 "cells": [
  {
   "cell_type": "code",
   "execution_count": 1,
   "metadata": {},
   "outputs": [
    {
     "data": {
      "text/plain": [
       "True"
      ]
     },
     "execution_count": 1,
     "metadata": {},
     "output_type": "execute_result"
    }
   ],
   "source": [
    "from dotenv import load_dotenv\n",
    "\n",
    "load_dotenv()"
   ]
  },
  {
   "cell_type": "code",
   "execution_count": 2,
   "metadata": {},
   "outputs": [],
   "source": [
    "import os\n",
    "\n",
    "key = os.getenv(\"GEMINI_KEY\")"
   ]
  },
  {
   "cell_type": "code",
   "execution_count": 3,
   "metadata": {},
   "outputs": [],
   "source": [
    "#@title Setting up the Auth\n",
    "import os\n",
    "import google.generativeai as genai\n",
    "\n",
    "from IPython.display import display\n",
    "from IPython.display import Markdown\n",
    "import textwrap\n",
    "\n",
    "genai.configure(api_key=key)"
   ]
  },
  {
   "cell_type": "code",
   "execution_count": 4,
   "metadata": {},
   "outputs": [],
   "source": [
    "def to_markdown(text):\n",
    "    text = text.replace('•', '  *')\n",
    "    return Markdown(textwrap.indent(text, '> ', predicate=lambda _: True))"
   ]
  },
  {
   "cell_type": "code",
   "execution_count": 5,
   "metadata": {},
   "outputs": [
    {
     "data": {
      "text/plain": [
       "[Model(name='models/chat-bison-001',\n",
       "       base_model_id='',\n",
       "       version='001',\n",
       "       display_name='PaLM 2 Chat (Legacy)',\n",
       "       description='A legacy text-only model optimized for chat conversations',\n",
       "       input_token_limit=4096,\n",
       "       output_token_limit=1024,\n",
       "       supported_generation_methods=['generateMessage', 'countMessageTokens'],\n",
       "       temperature=0.25,\n",
       "       top_p=0.95,\n",
       "       top_k=40),\n",
       " Model(name='models/text-bison-001',\n",
       "       base_model_id='',\n",
       "       version='001',\n",
       "       display_name='PaLM 2 (Legacy)',\n",
       "       description='A legacy model that understands text and generates text as an output',\n",
       "       input_token_limit=8196,\n",
       "       output_token_limit=1024,\n",
       "       supported_generation_methods=['generateText', 'countTextTokens', 'createTunedTextModel'],\n",
       "       temperature=0.7,\n",
       "       top_p=0.95,\n",
       "       top_k=40),\n",
       " Model(name='models/embedding-gecko-001',\n",
       "       base_model_id='',\n",
       "       version='001',\n",
       "       display_name='Embedding Gecko',\n",
       "       description='Obtain a distributed representation of a text.',\n",
       "       input_token_limit=1024,\n",
       "       output_token_limit=1,\n",
       "       supported_generation_methods=['embedText', 'countTextTokens'],\n",
       "       temperature=None,\n",
       "       top_p=None,\n",
       "       top_k=None),\n",
       " Model(name='models/gemini-1.0-pro',\n",
       "       base_model_id='',\n",
       "       version='001',\n",
       "       display_name='Gemini 1.0 Pro',\n",
       "       description='The best model for scaling across a wide range of tasks',\n",
       "       input_token_limit=30720,\n",
       "       output_token_limit=2048,\n",
       "       supported_generation_methods=['generateContent', 'countTokens'],\n",
       "       temperature=0.9,\n",
       "       top_p=1.0,\n",
       "       top_k=1),\n",
       " Model(name='models/gemini-1.0-pro-001',\n",
       "       base_model_id='',\n",
       "       version='001',\n",
       "       display_name='Gemini 1.0 Pro 001 (Tuning)',\n",
       "       description=('The best model for scaling across a wide range of tasks. This is a stable '\n",
       "                    'model that supports tuning.'),\n",
       "       input_token_limit=30720,\n",
       "       output_token_limit=2048,\n",
       "       supported_generation_methods=['generateContent', 'countTokens', 'createTunedModel'],\n",
       "       temperature=0.9,\n",
       "       top_p=1.0,\n",
       "       top_k=1),\n",
       " Model(name='models/gemini-1.0-pro-latest',\n",
       "       base_model_id='',\n",
       "       version='001',\n",
       "       display_name='Gemini 1.0 Pro Latest',\n",
       "       description=('The best model for scaling across a wide range of tasks. This is the latest '\n",
       "                    'model.'),\n",
       "       input_token_limit=30720,\n",
       "       output_token_limit=2048,\n",
       "       supported_generation_methods=['generateContent', 'countTokens'],\n",
       "       temperature=0.9,\n",
       "       top_p=1.0,\n",
       "       top_k=1),\n",
       " Model(name='models/gemini-1.0-pro-vision-latest',\n",
       "       base_model_id='',\n",
       "       version='001',\n",
       "       display_name='Gemini 1.0 Pro Vision',\n",
       "       description='The best image understanding model to handle a broad range of applications',\n",
       "       input_token_limit=12288,\n",
       "       output_token_limit=4096,\n",
       "       supported_generation_methods=['generateContent', 'countTokens'],\n",
       "       temperature=0.4,\n",
       "       top_p=1.0,\n",
       "       top_k=32),\n",
       " Model(name='models/gemini-pro',\n",
       "       base_model_id='',\n",
       "       version='001',\n",
       "       display_name='Gemini 1.0 Pro',\n",
       "       description='The best model for scaling across a wide range of tasks',\n",
       "       input_token_limit=30720,\n",
       "       output_token_limit=2048,\n",
       "       supported_generation_methods=['generateContent', 'countTokens'],\n",
       "       temperature=0.9,\n",
       "       top_p=1.0,\n",
       "       top_k=1),\n",
       " Model(name='models/gemini-pro-vision',\n",
       "       base_model_id='',\n",
       "       version='001',\n",
       "       display_name='Gemini 1.0 Pro Vision',\n",
       "       description='The best image understanding model to handle a broad range of applications',\n",
       "       input_token_limit=12288,\n",
       "       output_token_limit=4096,\n",
       "       supported_generation_methods=['generateContent', 'countTokens'],\n",
       "       temperature=0.4,\n",
       "       top_p=1.0,\n",
       "       top_k=32),\n",
       " Model(name='models/embedding-001',\n",
       "       base_model_id='',\n",
       "       version='001',\n",
       "       display_name='Embedding 001',\n",
       "       description='Obtain a distributed representation of a text.',\n",
       "       input_token_limit=2048,\n",
       "       output_token_limit=1,\n",
       "       supported_generation_methods=['embedContent'],\n",
       "       temperature=None,\n",
       "       top_p=None,\n",
       "       top_k=None),\n",
       " Model(name='models/aqa',\n",
       "       base_model_id='',\n",
       "       version='001',\n",
       "       display_name='Model that performs Attributed Question Answering.',\n",
       "       description=('Model trained to return answers to questions that are grounded in provided '\n",
       "                    'sources, along with estimating answerable probability.'),\n",
       "       input_token_limit=7168,\n",
       "       output_token_limit=1024,\n",
       "       supported_generation_methods=['generateAnswer'],\n",
       "       temperature=0.2,\n",
       "       top_p=1.0,\n",
       "       top_k=40)]"
      ]
     },
     "execution_count": 5,
     "metadata": {},
     "output_type": "execute_result"
    }
   ],
   "source": [
    "models = [m for m in genai.list_models()]\n",
    "models"
   ]
  },
  {
   "cell_type": "code",
   "execution_count": 6,
   "metadata": {},
   "outputs": [
    {
     "data": {
      "text/plain": [
       " genai.GenerativeModel(\n",
       "   model_name='models/gemini-pro',\n",
       "   generation_config={}.\n",
       "   safety_settings={}\n",
       ")"
      ]
     },
     "execution_count": 6,
     "metadata": {},
     "output_type": "execute_result"
    }
   ],
   "source": [
    "model = genai.GenerativeModel(\"gemini-pro\")\n",
    "model"
   ]
  },
  {
   "cell_type": "code",
   "execution_count": 7,
   "metadata": {},
   "outputs": [
    {
     "data": {
      "text/plain": [
       "ChatGoogleGenerativeAI(model='gemini-pro', google_api_key=SecretStr('**********'), client= genai.GenerativeModel(\n",
       "   model_name='models/gemini-pro',\n",
       "   generation_config={}.\n",
       "   safety_settings={}\n",
       "))"
      ]
     },
     "execution_count": 7,
     "metadata": {},
     "output_type": "execute_result"
    }
   ],
   "source": [
    "from langchain_google_genai import ChatGoogleGenerativeAI\n",
    "from langchain_google_genai import GoogleGenerativeAIEmbeddings\n",
    "from langchain.prompts import ChatPromptTemplate\n",
    "from langchain.schema.output_parser import StrOutputParser\n",
    "\n",
    "\n",
    "llm = ChatGoogleGenerativeAI(model=\"gemini-pro\",\n",
    "                             temperature=0.7,\n",
    "                             google_api_key=key)\n",
    "\n",
    "llm"
   ]
  },
  {
   "cell_type": "code",
   "execution_count": 8,
   "metadata": {},
   "outputs": [],
   "source": [
    "RESPONSE_JSON = \"\"\"\n",
    "{\n",
    "    \"1\" : \"question\",\n",
    "    \"2\" : \"question\",\n",
    "    \"3\" : \"question\",\n",
    "    ...\n",
    "}\n",
    "\n",
    "\"\"\""
   ]
  },
  {
   "cell_type": "code",
   "execution_count": 9,
   "metadata": {},
   "outputs": [],
   "source": [
    "TEMPLATE = \"\"\"\n",
    "You are an expert question generator. we are conducting an exam on \\\n",
    "{subject} your job is to generate 15 question of type {typ} for that subject.  \\\n",
    "Make sure the questions are not repeated and check all the questions to be conforming the text as well. \\\n",
    "Make sure to format your response like  RESPONSE_JSON below  and use it as a guide. \\\n",
    "Ensure to make {number} Questions \\\n",
    "### RESPONSE_JSON  \\ \n",
    "{response_json} \\\n",
    "\n",
    "\"\"\""
   ]
  },
  {
   "cell_type": "code",
   "execution_count": 10,
   "metadata": {},
   "outputs": [],
   "source": [
    "number = 15\n",
    "subject = \"Introduction to Artificial Intelligence\"\n",
    "typ = \"Open Quetion\""
   ]
  },
  {
   "cell_type": "code",
   "execution_count": 11,
   "metadata": {},
   "outputs": [],
   "source": [
    "gen_prompt = ChatPromptTemplate.from_template(TEMPLATE)\n",
    "\n",
    "output_parser = StrOutputParser()"
   ]
  },
  {
   "cell_type": "code",
   "execution_count": 12,
   "metadata": {},
   "outputs": [],
   "source": [
    "generation = gen_prompt | llm | output_parser"
   ]
  },
  {
   "cell_type": "code",
   "execution_count": 13,
   "metadata": {},
   "outputs": [],
   "source": [
    "quiz = generation.invoke({\n",
    "    \"subject\" : subject,\n",
    "    \"typ\" : typ,\n",
    "    \"number\" : number,\n",
    "    \"response_json\" : RESPONSE_JSON\n",
    "})\n",
    "\n",
    "# to_markdown(response)"
   ]
  },
  {
   "cell_type": "code",
   "execution_count": 14,
   "metadata": {},
   "outputs": [
    {
     "name": "stdout",
     "output_type": "stream",
     "text": [
      "### RESPONSE_JSON\n",
      "\n",
      "{\n",
      "    \"1\": \"Describe the key characteristics and components of artificial intelligence (AI) systems.\",\n",
      "    \"2\": \"Explain the different types of AI, such as machine learning, expert systems, and natural language processing.\",\n",
      "    \"3\": \"Discuss the applications of AI in various industries, such as healthcare, finance, and manufacturing.\",\n",
      "    \"4\": \"Explain the ethical implications of AI, including potential biases and privacy concerns.\",\n",
      "    \"5\": \"Describe the history of AI, including major milestones and key figures.\",\n",
      "    \"6\": \"Discuss the role of data in AI systems, including data collection, preprocessing, and labeling.\",\n",
      "    \"7\": \"Explain the concept of machine learning and describe the different types of machine learning algorithms.\",\n",
      "    \"8\": \"Describe the process of training and evaluating machine learning models.\",\n",
      "    \"9\": \"Discuss the importance of model selection and hyperparameter tuning in machine learning.\",\n",
      "    \"10\": \"Explain the concept of deep learning and describe the different types of deep learning architectures.\",\n",
      "    \"11\": \"Discuss the applications of deep learning in image recognition, natural language processing, and speech recognition.\",\n",
      "    \"12\": \"Explain the concept of computer vision and describe the different techniques used for object detection and recognition.\",\n",
      "    \"13\": \"Discuss the applications of computer vision in autonomous driving, medical imaging, and video surveillance.\",\n",
      "    \"14\": \"Explain the concept of natural language processing (NLP) and describe the different techniques used for text classification and language generation.\",\n",
      "    \"15\": \"Discuss the applications of NLP in machine translation, chatbots, and sentiment analysis.\"\n",
      "}\n"
     ]
    }
   ],
   "source": [
    "print(quiz)"
   ]
  },
  {
   "cell_type": "code",
   "execution_count": 15,
   "metadata": {},
   "outputs": [],
   "source": [
    "TEMPLATE2=\"\"\"\n",
    "You are an expert english grammarian and writer. Given a Question for {subject} students.\\\n",
    "You need to evaluate the complexity of the question and give a complete analysis of the quiz. Only use at max 50 words for complexity analysis. \n",
    "if the quiz is not at per with the cognitive and analytical abilities of the students,\\\n",
    "update the quiz questions which needs to be changed and change the tone such that it perfectly fits the student abilities\n",
    "Quiz:\n",
    "{quiz}\n",
    "\n",
    "Check from an expert English Writer of the above quiz:\n",
    "\n",
    "Generate the response in the following format:\n",
    "### RESPONSE_JSON\n",
    "{response_json}\n",
    "\"\"\"\n",
    "\n",
    "eval_prompt = ChatPromptTemplate.from_template(TEMPLATE2)"
   ]
  },
  {
   "cell_type": "code",
   "execution_count": 16,
   "metadata": {},
   "outputs": [],
   "source": [
    "evaluation = eval_prompt | llm | output_parser"
   ]
  },
  {
   "cell_type": "code",
   "execution_count": 17,
   "metadata": {},
   "outputs": [
    {
     "name": "stdout",
     "output_type": "stream",
     "text": [
      "**Complexity Analysis:**\n",
      "\n",
      "The quiz questions cover a broad range of topics in AI and are generally well-structured. However, some questions may require students to have a deeper understanding of AI concepts.\n",
      "\n",
      "**Updated Quiz Questions:**\n",
      "\n",
      "### RESPONSE_JSON\n",
      "\n",
      "{\n",
      "    \"1\": \"Define artificial intelligence and explain its key characteristics.\",\n",
      "    \"2\": \"Describe the different types of AI, including their strengths and limitations.\",\n",
      "    \"3\": \"Discuss the ethical considerations associated with the development and use of AI.\",\n",
      "    \"4\": \"Explain the role of data in AI systems and the importance of data quality.\",\n",
      "    \"5\": \"Describe the process of training and evaluating machine learning models.\",\n",
      "    \"6\": \"Explain the concept of deep learning and its applications in various fields.\",\n",
      "    \"7\": \"Discuss the benefits and challenges of using AI in healthcare.\",\n",
      "    \"8\": \"Explain the concept of natural language processing and its applications in machine translation.\",\n",
      "    \"9\": \"Describe the different techniques used for object detection and recognition in computer vision.\",\n",
      "    \"10\": \"Discuss the potential impact of AI on the future of work.\"\n",
      "}\n"
     ]
    }
   ],
   "source": [
    "quiz_eval = evaluation.invoke({\n",
    "    \"subject\" : subject,\n",
    "    \"quiz\" : quiz,\n",
    "    \"response_json\" : RESPONSE_JSON\n",
    "})\n",
    "\n",
    "print(quiz_eval)"
   ]
  },
  {
   "cell_type": "code",
   "execution_count": 18,
   "metadata": {},
   "outputs": [
    {
     "name": "stdout",
     "output_type": "stream",
     "text": [
      "{\n",
      "    \"1\": \"Describe the key characteristics and components of artificial intelligence (AI) systems.\",\n",
      "    \"2\": \"Explain the different types of AI, such as machine learning, expert systems, and natural language processing.\",\n",
      "    \"3\": \"Discuss the applications of AI in various industries, such as healthcare, finance, and manufacturing.\",\n",
      "    \"4\": \"Explain the ethical implications of AI, including potential biases and privacy concerns.\",\n",
      "    \"5\": \"Describe the history of AI, including major milestones and key figures.\",\n",
      "    \"6\": \"Discuss the role of data in AI systems, including data collection, preprocessing, and labeling.\",\n",
      "    \"7\": \"Explain the concept of machine learning and describe the different types of machine learning algorithms.\",\n",
      "    \"8\": \"Describe the process of training and evaluating machine learning models.\",\n",
      "    \"9\": \"Discuss the importance of model selection and hyperparameter tuning in machine learning.\",\n",
      "    \"10\": \"Explain the concept of deep learning and describe the different types of deep learning architectures.\",\n",
      "    \"11\": \"Discuss the applications of deep learning in image recognition, natural language processing, and speech recognition.\",\n",
      "    \"12\": \"Explain the concept of computer vision and describe the different techniques used for object detection and recognition.\",\n",
      "    \"13\": \"Discuss the applications of computer vision in autonomous driving, medical imaging, and video surveillance.\",\n",
      "    \"14\": \"Explain the concept of natural language processing (NLP) and describe the different techniques used for text classification and language generation.\",\n",
      "    \"15\": \"Discuss the applications of NLP in machine translation, chatbots, and sentiment analysis.\"\n",
      "}\n"
     ]
    }
   ],
   "source": [
    "import re\n",
    "\n",
    "# Regular expression pattern\n",
    "pattern = r'\\{.*?\\}'\n",
    "\n",
    "# Extracting substring\n",
    "substring = re.search(pattern, quiz, re.DOTALL)\n",
    "\n",
    "if substring:\n",
    "    substring = substring.group()\n",
    "    print(substring)\n",
    "else:\n",
    "    print(\"No response_json found.\")\n"
   ]
  },
  {
   "cell_type": "code",
   "execution_count": 19,
   "metadata": {},
   "outputs": [],
   "source": [
    "import json\n",
    "\n",
    "quiz_json = json.loads(substring)"
   ]
  },
  {
   "cell_type": "code",
   "execution_count": 20,
   "metadata": {},
   "outputs": [
    {
     "data": {
      "text/html": [
       "<div>\n",
       "<style scoped>\n",
       "    .dataframe tbody tr th:only-of-type {\n",
       "        vertical-align: middle;\n",
       "    }\n",
       "\n",
       "    .dataframe tbody tr th {\n",
       "        vertical-align: top;\n",
       "    }\n",
       "\n",
       "    .dataframe thead th {\n",
       "        text-align: right;\n",
       "    }\n",
       "</style>\n",
       "<table border=\"1\" class=\"dataframe\">\n",
       "  <thead>\n",
       "    <tr style=\"text-align: right;\">\n",
       "      <th></th>\n",
       "      <th>Question</th>\n",
       "    </tr>\n",
       "  </thead>\n",
       "  <tbody>\n",
       "    <tr>\n",
       "      <th>1</th>\n",
       "      <td>Describe the key characteristics and component...</td>\n",
       "    </tr>\n",
       "    <tr>\n",
       "      <th>2</th>\n",
       "      <td>Explain the different types of AI, such as mac...</td>\n",
       "    </tr>\n",
       "    <tr>\n",
       "      <th>3</th>\n",
       "      <td>Discuss the applications of AI in various indu...</td>\n",
       "    </tr>\n",
       "    <tr>\n",
       "      <th>4</th>\n",
       "      <td>Explain the ethical implications of AI, includ...</td>\n",
       "    </tr>\n",
       "    <tr>\n",
       "      <th>5</th>\n",
       "      <td>Describe the history of AI, including major mi...</td>\n",
       "    </tr>\n",
       "  </tbody>\n",
       "</table>\n",
       "</div>"
      ],
      "text/plain": [
       "                                            Question\n",
       "1  Describe the key characteristics and component...\n",
       "2  Explain the different types of AI, such as mac...\n",
       "3  Discuss the applications of AI in various indu...\n",
       "4  Explain the ethical implications of AI, includ...\n",
       "5  Describe the history of AI, including major mi..."
      ]
     },
     "execution_count": 20,
     "metadata": {},
     "output_type": "execute_result"
    }
   ],
   "source": [
    "import pandas as pd\n",
    "\n",
    "df = pd.DataFrame.from_dict(quiz_json, orient = \"index\", columns=[\"Question\"])\n",
    "df.head()"
   ]
  },
  {
   "cell_type": "code",
   "execution_count": 21,
   "metadata": {},
   "outputs": [
    {
     "name": "stdout",
     "output_type": "stream",
     "text": [
      "Explain the different types of AI, such as machine learning, expert systems, and natural language processing.\n"
     ]
    }
   ],
   "source": [
    "print(df['Question'][1])"
   ]
  },
  {
   "cell_type": "code",
   "execution_count": 22,
   "metadata": {},
   "outputs": [],
   "source": [
    "df.to_csv(\"Questions.csv\")"
   ]
  },
  {
   "cell_type": "code",
   "execution_count": 23,
   "metadata": {},
   "outputs": [],
   "source": [
    "TEMPLATE3 = \"\"\"\n",
    "Hey, I need your help reviewing my answer for a question.\n",
    "grade can be any floating point number\n",
    "\n",
    "Here's the question: \n",
    "{que}\n",
    "\n",
    "My answer: \n",
    "{ans}\n",
    "\n",
    "Generate the response in the following format:\n",
    "### Grade \n",
    "grade/10\n",
    "\"\"\"\n",
    "\n",
    "grade_prompt = ChatPromptTemplate.from_template(TEMPLATE3)"
   ]
  },
  {
   "cell_type": "code",
   "execution_count": 24,
   "metadata": {},
   "outputs": [],
   "source": [
    "grading = grade_prompt | llm | output_parser"
   ]
  },
  {
   "cell_type": "code",
   "execution_count": 25,
   "metadata": {},
   "outputs": [],
   "source": [
    "que = df['Question'][1]\n",
    "ans = \"Materiality in financial reporting refers to the importance or significance of information to the users of financial statements. Information is considered material if its omission or misstatement could influence the economic decisions of users. The concept of materiality is subjective and depends on factors such as the size, nature, and circumstances of the item. Significance in financial reporting ensures that only relevant information is included in the financial statements, preventing them from being cluttered with trivial details. Materiality guides accountants and auditors in determining what information to disclose and what to omit, helping users focus on key aspects that impact decision-making.\""
   ]
  },
  {
   "cell_type": "code",
   "execution_count": 26,
   "metadata": {},
   "outputs": [
    {
     "name": "stdout",
     "output_type": "stream",
     "text": [
      "### Grade\n",
      "0/10\n"
     ]
    }
   ],
   "source": [
    "grade = grading.invoke({\n",
    "    \"que\" : que,\n",
    "    \"ans\" : ans\n",
    "})\n",
    "\n",
    "print(grade)"
   ]
  },
  {
   "cell_type": "code",
   "execution_count": 27,
   "metadata": {},
   "outputs": [
    {
     "name": "stdout",
     "output_type": "stream",
     "text": [
      "RESPONSE_JSON not found in the string.\n"
     ]
    }
   ],
   "source": [
    "search_word = \"Grade\\n\"\n",
    "\n",
    "# Find the index where RESPONSE_JSON occurs\n",
    "index = quiz.find(search_word)\n",
    "\n",
    "# Extract the substring after RESPONSE_JSON\n",
    "if index != -1:\n",
    "    substring = quiz[index + len(search_word):]\n",
    "    print(substring)\n",
    "else:\n",
    "    print(\"RESPONSE_JSON not found in the string.\")\n"
   ]
  },
  {
   "cell_type": "code",
   "execution_count": 28,
   "metadata": {},
   "outputs": [],
   "source": [
    "import re"
   ]
  },
  {
   "cell_type": "code",
   "execution_count": 29,
   "metadata": {},
   "outputs": [
    {
     "name": "stdout",
     "output_type": "stream",
     "text": [
      "Grade: 0\n"
     ]
    }
   ],
   "source": [
    "pattern = r'\\b\\d+\\b'\n",
    "\n",
    "match = re.search(pattern, grade)\n",
    "\n",
    "if match:\n",
    "    # Extract the integer grade\n",
    "    grade = int(match.group())\n",
    "    print(\"Grade:\", grade)\n",
    "else:\n",
    "    print(\"No grade found.\")"
   ]
  },
  {
   "cell_type": "code",
   "execution_count": 45,
   "metadata": {},
   "outputs": [],
   "source": [
    "def review_grade(que, ans):\n",
    "    grade = grading.invoke({\n",
    "    \"que\" : que,\n",
    "    \"ans\" : ans\n",
    "    })\n",
    "\n",
    "    pattern = r'\\b\\d+\\b'\n",
    "\n",
    "    match = re.search(pattern, grade)\n",
    "\n",
    "    if match:\n",
    "        # Extract the integer grade\n",
    "        grade = int(match.group())\n",
    "        print(\"Grade:\", grade)\n",
    "    else:\n",
    "        print(\"No grade found.\")\n",
    "    \n",
    "    return grade"
   ]
  },
  {
   "cell_type": "code",
   "execution_count": 31,
   "metadata": {},
   "outputs": [],
   "source": [
    "def generate_answer(que):\n",
    "    return model.generate_content(que).text"
   ]
  },
  {
   "cell_type": "code",
   "execution_count": 32,
   "metadata": {},
   "outputs": [
    {
     "data": {
      "text/html": [
       "<div>\n",
       "<style scoped>\n",
       "    .dataframe tbody tr th:only-of-type {\n",
       "        vertical-align: middle;\n",
       "    }\n",
       "\n",
       "    .dataframe tbody tr th {\n",
       "        vertical-align: top;\n",
       "    }\n",
       "\n",
       "    .dataframe thead th {\n",
       "        text-align: right;\n",
       "    }\n",
       "</style>\n",
       "<table border=\"1\" class=\"dataframe\">\n",
       "  <thead>\n",
       "    <tr style=\"text-align: right;\">\n",
       "      <th></th>\n",
       "      <th>Unnamed: 0</th>\n",
       "      <th>Question</th>\n",
       "    </tr>\n",
       "  </thead>\n",
       "  <tbody>\n",
       "    <tr>\n",
       "      <th>0</th>\n",
       "      <td>1</td>\n",
       "      <td>Describe the key characteristics and component...</td>\n",
       "    </tr>\n",
       "    <tr>\n",
       "      <th>1</th>\n",
       "      <td>2</td>\n",
       "      <td>Explain the different types of AI, such as mac...</td>\n",
       "    </tr>\n",
       "    <tr>\n",
       "      <th>2</th>\n",
       "      <td>3</td>\n",
       "      <td>Discuss the applications of AI in various indu...</td>\n",
       "    </tr>\n",
       "    <tr>\n",
       "      <th>3</th>\n",
       "      <td>4</td>\n",
       "      <td>Explain the ethical implications of AI, includ...</td>\n",
       "    </tr>\n",
       "    <tr>\n",
       "      <th>4</th>\n",
       "      <td>5</td>\n",
       "      <td>Describe the history of AI, including major mi...</td>\n",
       "    </tr>\n",
       "    <tr>\n",
       "      <th>5</th>\n",
       "      <td>6</td>\n",
       "      <td>Discuss the role of data in AI systems, includ...</td>\n",
       "    </tr>\n",
       "    <tr>\n",
       "      <th>6</th>\n",
       "      <td>7</td>\n",
       "      <td>Explain the concept of machine learning and de...</td>\n",
       "    </tr>\n",
       "    <tr>\n",
       "      <th>7</th>\n",
       "      <td>8</td>\n",
       "      <td>Describe the process of training and evaluatin...</td>\n",
       "    </tr>\n",
       "    <tr>\n",
       "      <th>8</th>\n",
       "      <td>9</td>\n",
       "      <td>Discuss the importance of model selection and ...</td>\n",
       "    </tr>\n",
       "    <tr>\n",
       "      <th>9</th>\n",
       "      <td>10</td>\n",
       "      <td>Explain the concept of deep learning and descr...</td>\n",
       "    </tr>\n",
       "    <tr>\n",
       "      <th>10</th>\n",
       "      <td>11</td>\n",
       "      <td>Discuss the applications of deep learning in i...</td>\n",
       "    </tr>\n",
       "    <tr>\n",
       "      <th>11</th>\n",
       "      <td>12</td>\n",
       "      <td>Explain the concept of computer vision and des...</td>\n",
       "    </tr>\n",
       "    <tr>\n",
       "      <th>12</th>\n",
       "      <td>13</td>\n",
       "      <td>Discuss the applications of computer vision in...</td>\n",
       "    </tr>\n",
       "    <tr>\n",
       "      <th>13</th>\n",
       "      <td>14</td>\n",
       "      <td>Explain the concept of natural language proces...</td>\n",
       "    </tr>\n",
       "    <tr>\n",
       "      <th>14</th>\n",
       "      <td>15</td>\n",
       "      <td>Discuss the applications of NLP in machine tra...</td>\n",
       "    </tr>\n",
       "  </tbody>\n",
       "</table>\n",
       "</div>"
      ],
      "text/plain": [
       "    Unnamed: 0                                           Question\n",
       "0            1  Describe the key characteristics and component...\n",
       "1            2  Explain the different types of AI, such as mac...\n",
       "2            3  Discuss the applications of AI in various indu...\n",
       "3            4  Explain the ethical implications of AI, includ...\n",
       "4            5  Describe the history of AI, including major mi...\n",
       "5            6  Discuss the role of data in AI systems, includ...\n",
       "6            7  Explain the concept of machine learning and de...\n",
       "7            8  Describe the process of training and evaluatin...\n",
       "8            9  Discuss the importance of model selection and ...\n",
       "9           10  Explain the concept of deep learning and descr...\n",
       "10          11  Discuss the applications of deep learning in i...\n",
       "11          12  Explain the concept of computer vision and des...\n",
       "12          13  Discuss the applications of computer vision in...\n",
       "13          14  Explain the concept of natural language proces...\n",
       "14          15  Discuss the applications of NLP in machine tra..."
      ]
     },
     "execution_count": 32,
     "metadata": {},
     "output_type": "execute_result"
    }
   ],
   "source": [
    "result = pd.read_csv(\"Questions.csv\")\n",
    "\n",
    "result"
   ]
  },
  {
   "cell_type": "code",
   "execution_count": 34,
   "metadata": {},
   "outputs": [
    {
     "data": {
      "text/plain": [
       "[\"**Key Characteristics of AI Systems:**\\n\\n* **Intelligent Behavior:** AI systems exhibit capabilities that are typically associated with human intelligence, such as learning, problem-solving, decision-making, and natural language processing.\\n* **Data-Driven:** AI algorithms rely heavily on data to train and improve their performance. They can process vast amounts of data efficiently and extract patterns and insights.\\n* **Adaptability:** AI systems can adjust their behavior based on changes in the environment or new information. They can learn from their mistakes, refine their models, and adapt to new challenges.\\n* **Autonomy:** AI systems can operate independently of human intervention, performing tasks without explicit instructions. However, the level of autonomy varies depending on the specific system.\\n* **Scalability:** AI systems can be scaled up or down to handle different levels of complexity and data volumes.\\n\\n**Components of AI Systems:**\\n\\n**1. Sensors and Input:**\\n* AI systems collect data from various sources using sensors (e.g., cameras, microphones) or by accessing databases.\\n* This data serves as the input to the AI algorithm.\\n\\n**2. AI Algorithm:**\\n* The core of an AI system is its algorithm.\\n* This algorithm determines how the data is processed, analyzed, and used to make decisions.\\n* There are various types of AI algorithms, including machine learning, deep learning, and reinforcement learning.\\n\\n**3. Training Data:**\\n* AI algorithms need vast amounts of training data to learn and improve their performance.\\n* Training data contains labeled examples that help the algorithm identify patterns and make accurate predictions.\\n\\n**4. Model Training:**\\n* The AI algorithm is trained on the training data.\\n* This involves iteratively adjusting the algorithm's parameters to minimize errors and improve accuracy.\\n\\n**5. Inference:**\\n* Once trained, the AI model is used to make inferences on new data.\\n* It can make predictions, solve problems, or perform tasks based on the knowledge acquired from training.\\n\\n**6. Output:**\\n* The output of an AI system can be in various forms, such as predictions, recommendations, decisions, or actions.\\n* The output is typically used to support human decision-making or automate tasks.\\n\\n**7. Evaluation:**\\n* AI systems are evaluated based on their accuracy, reliability, and performance under different conditions.\\n* Constant evaluation helps optimize the AI system and enhance its capabilities.\",\n",
       " '**Types of Artificial Intelligence**\\n\\n**1. Machine Learning**\\n\\n* **Definition:** AI that enables computers to learn from data without explicit programming.\\n* **Types:**\\n    * **Supervised learning:** Trains algorithms on labeled data to make predictions (e.g., image classification, spam filtering).\\n    * **Unsupervised learning:** Trains algorithms on unlabeled data to find patterns and structures (e.g., clustering, dimensionality reduction).\\n    * **Reinforcement learning:** Trains algorithms through interactions with an environment to learn optimal actions (e.g., self-driving cars, playing games).\\n\\n**2. Expert Systems**\\n\\n* **Definition:** AI systems that mimic the reasoning and expertise of human experts.\\n* **Components:**\\n    * **Knowledge base:** Contains domain-specific knowledge represented as rules, facts, and relationships.\\n    * **Inference engine:** Uses knowledge base to derive new conclusions and make recommendations.\\n* **Applications:** Diagnosis, planning, decision support, manufacturing.\\n\\n**3. Natural Language Processing (NLP)**\\n\\n* **Definition:** AI that enables computers to understand, interpret, and generate human language.\\n* **Tasks:**\\n    * **Natural language understanding:** Extracting meaning from text (e.g., sentiment analysis, question answering).\\n    * **Natural language generation:** Creating text that is readable and meaningful to humans (e.g., machine translation, chatbot responses).\\n    * **Speech recognition:** Converting spoken language into digital text (e.g., voice assistants, dictation).\\n    * **Speech synthesis:** Converting text into spoken language (e.g., text-to-speech engines).\\n\\n**4. Computer Vision**\\n\\n* **Definition:** AI that enables computers to interpret and understand images and videos.\\n* **Tasks:**\\n    * **Image classification:** Identifying the content of images (e.g., object recognition, scene understanding).\\n    * **Object detection:** Locating and detecting objects within images (e.g., face detection, pedestrian detection).\\n    * **Image segmentation:** Dividing images into regions based on their content (e.g., foreground extraction, medical imaging).\\n\\n**5. Robotics**\\n\\n* **Definition:** AI systems that control and interact with the physical world through sensors, actuators, and motors.\\n* **Types:**\\n    * **Industrial robots:** Used in manufacturing and assembly lines for repetitive tasks.\\n    * **Service robots:** Designed for tasks that are dangerous, repetitive, or require precision (e.g., medical surgery, cleaning).\\n    * **Autonomous robots:** Capable of navigating and making decisions in complex environments (e.g., self-driving cars, drones).',\n",
       " \"**Healthcare**\\n\\n* **Disease diagnosis and prognosis:** AI algorithms can analyze patient data (e.g., medical images, lab results) to identify patterns and predict diseases at an early stage.\\n* **Personalized treatment planning:** AI can tailor treatment plans based on individual patient profiles, considering factors like medical history, genetic information, and lifestyle.\\n* **Drug discovery and development:** AI assists in identifying potential drug candidates, optimizing molecule design, and predicting clinical trial outcomes.\\n* **Remote monitoring and telehealth:** AI-powered devices allow for continuous remote monitoring of patients' vital signs, enabling early detection of health issues and facilitating virtual medical consultations.\\n\\n**Finance**\\n\\n* **Fraud detection and risk management:** AI algorithms analyze transaction data to detect suspicious patterns and prevent financial fraud.\\n* **Credit scoring and lending:** AI can assess creditworthiness and predict loan repayment likelihood, expanding access to financing for underserved populations.\\n* **Investment management and financial forecasting:** AI predicts market trends, identifies optimal investment opportunities, and assists in portfolio optimization.\\n* **Automated customer service and chatbots:** AI-powered chatbots provide 24/7 customer support, answering queries and resolving issues in real-time.\\n\\n**Manufacturing**\\n\\n* **Predictive maintenance and quality control:** AI algorithms analyze sensor data from equipment to predict breakdowns and improve maintenance efficiency. They also detect defects in products during production, ensuring high quality standards.\\n* **Process optimization and automation:** AI automates repetitive tasks, streamlines production lines, and optimizes production processes for increased efficiency and reduced costs.\\n* **Inventory management and supply chain optimization:** AI forecasts demand, optimizes inventory levels, and automates supply chain processes, improving inventory turnover and reducing disruptions.\\n* **Robotics and automation:** AI-powered robots perform complex tasks, such as welding, assembly, and packaging, increasing productivity and reducing labor costs.\\n\\n**Other Industries**\\n\\n* **Education:** AI powers personalized learning platforms, adapts educational content to individual students' needs, and provides virtual tutoring and support.\\n* **Transportation:** AI optimizes traffic flow, improves route planning, and enables autonomous vehicles for safer and more efficient transportation.\\n* **Retail:** AI assists in demand forecasting, inventory management, personalized product recommendations, and enhanced customer experiences.\\n* **Agriculture:** AI helps farmers optimize crop yields, detect diseases in livestock, and forecast weather patterns for better decision-making.\",\n",
       " '**Ethical Implications of Artificial Intelligence (AI)**\\n\\nAI technology has revolutionized various industries and aspects of modern life, but it also raises significant ethical concerns that require careful consideration.\\n\\n**Potential Biases:**\\n\\n* **Algorithmic bias:** AI algorithms are trained on data, which may contain biases that can be inadvertently embedded in the algorithm. This can lead to discriminatory outcomes, such as in hiring or lending processes.\\n* **Confirmation bias:** AI systems can reinforce existing biases by presenting information that confirms those biases, leading to a lack of diversity in perspectives.\\n* **Bias amplification:** AI can amplify biases over time, as it makes decisions based on previous data, which may contain bias.\\n\\n**Privacy Concerns:**\\n\\n* **Data collection and storage:** AI algorithms require vast amounts of data for training and operation, which can raise privacy concerns about the collection, storage, and use of personal information.\\n* **Surveillance:** AI-powered surveillance technologies can raise concerns about privacy invasion and the potential for abuse.\\n* **Data breaches:** AI systems can be vulnerable to data breaches, exposing sensitive information to unauthorized individuals.\\n\\n**Other Ethical Implications:**\\n\\n* **Job displacement:** AI automation has the potential to displace human workers, raising economic and social concerns.\\n* **Responsibility and accountability:** Determining responsibility and accountability for decisions made by AI systems can be complex, especially in cases of harm or bias.\\n* **Transparency and explainability:** AI algorithms can be complex and opaque, making it difficult to understand how they arrive at decisions. This lack of transparency can hinder accountability and trust.\\n\\n**Mitigating Ethical Implications:**\\n\\nAddressing ethical concerns in AI requires a multi-faceted approach:\\n\\n* **Bias audits:** Regularly conduct audits to identify and mitigate algorithmic and confirmation biases.\\n* **Privacy regulations:** Establish clear regulations to protect personal data and prevent privacy violations.\\n* **Data ethics guidelines:** Develop ethical guidelines for data collection, storage, and use in AI systems.\\n* **Responsible design:** Design AI systems with privacy and fairness considerations in mind.\\n* **Transparency and explainability:** Make AI algorithms more transparent and explainable to enable scrutiny and accountability.\\n* **Education and awareness:** Promote education and awareness about the ethical implications of AI to foster informed decision-making.\\n\\nBy addressing these ethical implications proactively, we can harness the transformative power of AI while ensuring that it is used responsibly and ethically.',\n",
       " '**Early History (Pre-1950s)**\\n\\n* **1943:** Warren McCulloch and Walter Pitts publish a seminal paper on the theory of artificial neural networks.\\n* **1949:** Alan Turing proposes the \"Turing Test\" as a measure of machine intelligence.\\n\\n**Golden Age (1950s-1970s)**\\n\\n* **1950:** Rebecca Clarke Cohen creates ELIZA, the first chatbot.\\n* **1956:** John McCarthy coins the term \"artificial intelligence\" at a conference at Dartmouth College.\\n* **1957:** Frank Rosenblatt develops the Perceptron, an early type of artificial neural network.\\n* **1966:** Joseph Weizenbaum creates ELIZA, a more sophisticated chatbot that simulates a psychotherapist.\\n\\n**Winter of AI (1970s-1980s)**\\n\\n* AI research faces limitations due to limited computing power and the inability to solve complex problems.\\n* \"Expert systems\" emerge, which are knowledge-based systems designed to mimic expert decision-making.\\n\\n**Renaissance (1980s-Present)**\\n\\n* **1980s:** Backpropagation algorithm improves the performance of neural networks.\\n* **1990s:** Supercomputers become more widely available, enabling the development of larger and more complex AI models.\\n* **2000s:** Machine learning techniques become increasingly popular, allowing AI systems to learn from data without explicit programming.\\n* **2010s:** Deep learning revolutionizes AI with its ability to process large amounts of data and find complex patterns.\\n\\n**Key Figures**\\n\\n* **Alan Turing:** Proposed the Turing Test and made significant contributions to computer science and AI.\\n* **Warren McCulloch and Walter Pitts:** Developed the theory of artificial neural networks.\\n* **Frank Rosenblatt:** Developed the Perceptron.\\n* **Joseph Weizenbaum:** Created ELIZA and raised ethical concerns about AI.\\n* **Geoffrey Hinton:** Pioneer in deep learning and artificial neural networks.\\n* **Yann LeCun:** Developed convolutional neural networks for image recognition.\\n* **Andrew Ng:** Co-founded Google Brain and is a leading figure in machine learning.',\n",
       " \"**Role of Data in AI Systems**\\n\\nData forms the foundation of artificial intelligence (AI) systems, enabling them to learn, make predictions, and perform complex tasks. The quality and quantity of data are crucial for the effectiveness of AI models.\\n\\n**Data Collection**\\n\\n* **Gathering Data:** Data can be collected from various sources, including sensors, databases, text documents, images, and videos.\\n* **Data Sampling:** To ensure representativeness, it is important to collect data from a wide range of samples that reflect the target population or domain.\\n* **Data Cleaning:** Collected data often contains noise, inconsistencies, or missing values that need to be cleaned and corrected.\\n\\n**Data Preprocessing**\\n\\n* **Feature Engineering:** Raw data is transformed into features that are relevant to the AI model's task. This involves processes like data normalization, encoding, and feature selection.\\n* **Dimensionality Reduction:** High-dimensional data can be compressed to reduce computational complexity and noise. Techniques like principal component analysis (PCA) and singular value decomposition (SVD) are used.\\n\\n**Data Labeling**\\n\\n* **Supervised Learning:** In supervised learning, data is labeled with the correct output or classification. This allows the AI model to learn the relationship between inputs and outputs.\\n* **Unsupervised Learning:** Unsupervised learning algorithms operate on unlabeled data to identify patterns and structures. Techniques like clustering and association rule mining are used.\\n* **Data Annotation:** Humans or automated tools can annotate data with labels, descriptions, or other metadata to provide context and improve AI model accuracy.\\n\\n**Significance of Data for AI Systems**\\n\\n* **Model Training:** Data is used to train AI models, teaching them how to perform specific tasks. Larger and more diverse datasets lead to more robust and accurate models.\\n* **Model Evaluation:** Data is used to evaluate the performance of AI models and identify areas for improvement. Metrics like accuracy, precision, and recall are used to assess model quality.\\n* **Continuous Improvement:** As new data becomes available, AI models can be continuously retrained to improve their performance and adapt to changing conditions.\\n\\n**Challenges and Best Practices**\\n\\n* **Data Privacy and Security:** Sensitive data must be protected from unauthorized access or misuse. Best practices include anonymization, encryption, and adhering to data privacy regulations.\\n* **Data Bias:** Data bias can lead to biased AI models. It is important to ensure that data is representative and free from discriminatory patterns.\\n* **Data Imbalance:** Class imbalance in data can skew the performance of AI models. Techniques like oversampling, undersampling, or synthetic data generation can be employed to address this issue.\\n* **Data Quality:** High-quality data is essential for effective AI models. Regular data validation and quality assurance processes should be in place to ensure data accuracy and consistency.\",\n",
       " '**Concept of Machine Learning**\\n\\nMachine learning (ML) is a subfield of artificial intelligence (AI) that allows machines to learn from data without explicit programming. Instead of being explicitly instructed on how to perform a task, ML algorithms are trained on historical or labeled data to identify patterns and make predictions or decisions.\\n\\n**Types of Machine Learning Algorithms**\\n\\nThere are three main types of ML algorithms:\\n\\n**1. Supervised Learning**\\n\\n* The algorithm learns by examining a labeled dataset, where each data point is associated with a known output value.\\n* Examples include:\\n    * **Regression:** Predicting a continuous output (e.g., predicting housing prices based on features like square footage and location).\\n    * **Classification:** Assigning a data point to a discrete class (e.g., classifying images as \"cat\" or \"dog\").\\n\\n**2. Unsupervised Learning**\\n\\n* The algorithm learns from an unlabeled dataset, where data points have no known output values.\\n* It identifies patterns and structures within the data to make inferences or group data points.\\n* Examples include:\\n    * **Clustering:** Grouping similar data points together (e.g., identifying customer segments based on purchase patterns).\\n    * **Dimensionality Reduction:** Reducing the number of features in a dataset while preserving relevant information (e.g., extracting key features from images).\\n\\n**3. Reinforcement Learning**\\n\\n* The algorithm learns through trial and error, interacting with an environment and receiving rewards or penalties for its actions.\\n* It aims to maximize the cumulative reward over time.\\n* Examples include:\\n    * **Game-Playing:** Training AI to play games like chess or Go.\\n    * **Robotics:** Controlling robots to navigate and perform tasks in real-world settings.\\n\\n**Other ML Algorithms**\\n\\nIn addition to these main types, there are other ML algorithms that serve specific purposes:\\n\\n* **Semi-Supervised Learning:** Combines labeled and unlabeled data to improve model performance.\\n* **Transfer Learning:** Reuses knowledge learned from one task for a related but different task.\\n* **Ensemble Learning:** Combines multiple models to make more accurate predictions.\\n\\n**Applications of Machine Learning**\\n\\nML algorithms have a wide range of applications, including:\\n\\n* Fraud detection\\n* Image recognition\\n* Natural language processing\\n* Predictive analytics\\n* Speech recognition\\n* Personalized recommendations\\n* Autonomous vehicles']"
      ]
     },
     "execution_count": 34,
     "metadata": {},
     "output_type": "execute_result"
    }
   ],
   "source": [
    "answers = []\n",
    "\n",
    "for question in result['Question'][:7]:\n",
    "    answers.append(generate_answer(question))\n",
    "\n",
    "answers"
   ]
  },
  {
   "cell_type": "code",
   "execution_count": 35,
   "metadata": {},
   "outputs": [
    {
     "data": {
      "text/plain": [
       "[\"**Key Characteristics of AI Systems:**\\n\\n* **Intelligent Behavior:** AI systems exhibit capabilities that are typically associated with human intelligence, such as learning, problem-solving, decision-making, and natural language processing.\\n* **Data-Driven:** AI algorithms rely heavily on data to train and improve their performance. They can process vast amounts of data efficiently and extract patterns and insights.\\n* **Adaptability:** AI systems can adjust their behavior based on changes in the environment or new information. They can learn from their mistakes, refine their models, and adapt to new challenges.\\n* **Autonomy:** AI systems can operate independently of human intervention, performing tasks without explicit instructions. However, the level of autonomy varies depending on the specific system.\\n* **Scalability:** AI systems can be scaled up or down to handle different levels of complexity and data volumes.\\n\\n**Components of AI Systems:**\\n\\n**1. Sensors and Input:**\\n* AI systems collect data from various sources using sensors (e.g., cameras, microphones) or by accessing databases.\\n* This data serves as the input to the AI algorithm.\\n\\n**2. AI Algorithm:**\\n* The core of an AI system is its algorithm.\\n* This algorithm determines how the data is processed, analyzed, and used to make decisions.\\n* There are various types of AI algorithms, including machine learning, deep learning, and reinforcement learning.\\n\\n**3. Training Data:**\\n* AI algorithms need vast amounts of training data to learn and improve their performance.\\n* Training data contains labeled examples that help the algorithm identify patterns and make accurate predictions.\\n\\n**4. Model Training:**\\n* The AI algorithm is trained on the training data.\\n* This involves iteratively adjusting the algorithm's parameters to minimize errors and improve accuracy.\\n\\n**5. Inference:**\\n* Once trained, the AI model is used to make inferences on new data.\\n* It can make predictions, solve problems, or perform tasks based on the knowledge acquired from training.\\n\\n**6. Output:**\\n* The output of an AI system can be in various forms, such as predictions, recommendations, decisions, or actions.\\n* The output is typically used to support human decision-making or automate tasks.\\n\\n**7. Evaluation:**\\n* AI systems are evaluated based on their accuracy, reliability, and performance under different conditions.\\n* Constant evaluation helps optimize the AI system and enhance its capabilities.\",\n",
       " '**Types of Artificial Intelligence**\\n\\n**1. Machine Learning**\\n\\n* **Definition:** AI that enables computers to learn from data without explicit programming.\\n* **Types:**\\n    * **Supervised learning:** Trains algorithms on labeled data to make predictions (e.g., image classification, spam filtering).\\n    * **Unsupervised learning:** Trains algorithms on unlabeled data to find patterns and structures (e.g., clustering, dimensionality reduction).\\n    * **Reinforcement learning:** Trains algorithms through interactions with an environment to learn optimal actions (e.g., self-driving cars, playing games).\\n\\n**2. Expert Systems**\\n\\n* **Definition:** AI systems that mimic the reasoning and expertise of human experts.\\n* **Components:**\\n    * **Knowledge base:** Contains domain-specific knowledge represented as rules, facts, and relationships.\\n    * **Inference engine:** Uses knowledge base to derive new conclusions and make recommendations.\\n* **Applications:** Diagnosis, planning, decision support, manufacturing.\\n\\n**3. Natural Language Processing (NLP)**\\n\\n* **Definition:** AI that enables computers to understand, interpret, and generate human language.\\n* **Tasks:**\\n    * **Natural language understanding:** Extracting meaning from text (e.g., sentiment analysis, question answering).\\n    * **Natural language generation:** Creating text that is readable and meaningful to humans (e.g., machine translation, chatbot responses).\\n    * **Speech recognition:** Converting spoken language into digital text (e.g., voice assistants, dictation).\\n    * **Speech synthesis:** Converting text into spoken language (e.g., text-to-speech engines).\\n\\n**4. Computer Vision**\\n\\n* **Definition:** AI that enables computers to interpret and understand images and videos.\\n* **Tasks:**\\n    * **Image classification:** Identifying the content of images (e.g., object recognition, scene understanding).\\n    * **Object detection:** Locating and detecting objects within images (e.g., face detection, pedestrian detection).\\n    * **Image segmentation:** Dividing images into regions based on their content (e.g., foreground extraction, medical imaging).\\n\\n**5. Robotics**\\n\\n* **Definition:** AI systems that control and interact with the physical world through sensors, actuators, and motors.\\n* **Types:**\\n    * **Industrial robots:** Used in manufacturing and assembly lines for repetitive tasks.\\n    * **Service robots:** Designed for tasks that are dangerous, repetitive, or require precision (e.g., medical surgery, cleaning).\\n    * **Autonomous robots:** Capable of navigating and making decisions in complex environments (e.g., self-driving cars, drones).',\n",
       " \"**Healthcare**\\n\\n* **Disease diagnosis and prognosis:** AI algorithms can analyze patient data (e.g., medical images, lab results) to identify patterns and predict diseases at an early stage.\\n* **Personalized treatment planning:** AI can tailor treatment plans based on individual patient profiles, considering factors like medical history, genetic information, and lifestyle.\\n* **Drug discovery and development:** AI assists in identifying potential drug candidates, optimizing molecule design, and predicting clinical trial outcomes.\\n* **Remote monitoring and telehealth:** AI-powered devices allow for continuous remote monitoring of patients' vital signs, enabling early detection of health issues and facilitating virtual medical consultations.\\n\\n**Finance**\\n\\n* **Fraud detection and risk management:** AI algorithms analyze transaction data to detect suspicious patterns and prevent financial fraud.\\n* **Credit scoring and lending:** AI can assess creditworthiness and predict loan repayment likelihood, expanding access to financing for underserved populations.\\n* **Investment management and financial forecasting:** AI predicts market trends, identifies optimal investment opportunities, and assists in portfolio optimization.\\n* **Automated customer service and chatbots:** AI-powered chatbots provide 24/7 customer support, answering queries and resolving issues in real-time.\\n\\n**Manufacturing**\\n\\n* **Predictive maintenance and quality control:** AI algorithms analyze sensor data from equipment to predict breakdowns and improve maintenance efficiency. They also detect defects in products during production, ensuring high quality standards.\\n* **Process optimization and automation:** AI automates repetitive tasks, streamlines production lines, and optimizes production processes for increased efficiency and reduced costs.\\n* **Inventory management and supply chain optimization:** AI forecasts demand, optimizes inventory levels, and automates supply chain processes, improving inventory turnover and reducing disruptions.\\n* **Robotics and automation:** AI-powered robots perform complex tasks, such as welding, assembly, and packaging, increasing productivity and reducing labor costs.\\n\\n**Other Industries**\\n\\n* **Education:** AI powers personalized learning platforms, adapts educational content to individual students' needs, and provides virtual tutoring and support.\\n* **Transportation:** AI optimizes traffic flow, improves route planning, and enables autonomous vehicles for safer and more efficient transportation.\\n* **Retail:** AI assists in demand forecasting, inventory management, personalized product recommendations, and enhanced customer experiences.\\n* **Agriculture:** AI helps farmers optimize crop yields, detect diseases in livestock, and forecast weather patterns for better decision-making.\",\n",
       " '**Ethical Implications of Artificial Intelligence (AI)**\\n\\nAI technology has revolutionized various industries and aspects of modern life, but it also raises significant ethical concerns that require careful consideration.\\n\\n**Potential Biases:**\\n\\n* **Algorithmic bias:** AI algorithms are trained on data, which may contain biases that can be inadvertently embedded in the algorithm. This can lead to discriminatory outcomes, such as in hiring or lending processes.\\n* **Confirmation bias:** AI systems can reinforce existing biases by presenting information that confirms those biases, leading to a lack of diversity in perspectives.\\n* **Bias amplification:** AI can amplify biases over time, as it makes decisions based on previous data, which may contain bias.\\n\\n**Privacy Concerns:**\\n\\n* **Data collection and storage:** AI algorithms require vast amounts of data for training and operation, which can raise privacy concerns about the collection, storage, and use of personal information.\\n* **Surveillance:** AI-powered surveillance technologies can raise concerns about privacy invasion and the potential for abuse.\\n* **Data breaches:** AI systems can be vulnerable to data breaches, exposing sensitive information to unauthorized individuals.\\n\\n**Other Ethical Implications:**\\n\\n* **Job displacement:** AI automation has the potential to displace human workers, raising economic and social concerns.\\n* **Responsibility and accountability:** Determining responsibility and accountability for decisions made by AI systems can be complex, especially in cases of harm or bias.\\n* **Transparency and explainability:** AI algorithms can be complex and opaque, making it difficult to understand how they arrive at decisions. This lack of transparency can hinder accountability and trust.\\n\\n**Mitigating Ethical Implications:**\\n\\nAddressing ethical concerns in AI requires a multi-faceted approach:\\n\\n* **Bias audits:** Regularly conduct audits to identify and mitigate algorithmic and confirmation biases.\\n* **Privacy regulations:** Establish clear regulations to protect personal data and prevent privacy violations.\\n* **Data ethics guidelines:** Develop ethical guidelines for data collection, storage, and use in AI systems.\\n* **Responsible design:** Design AI systems with privacy and fairness considerations in mind.\\n* **Transparency and explainability:** Make AI algorithms more transparent and explainable to enable scrutiny and accountability.\\n* **Education and awareness:** Promote education and awareness about the ethical implications of AI to foster informed decision-making.\\n\\nBy addressing these ethical implications proactively, we can harness the transformative power of AI while ensuring that it is used responsibly and ethically.',\n",
       " '**Early History (Pre-1950s)**\\n\\n* **1943:** Warren McCulloch and Walter Pitts publish a seminal paper on the theory of artificial neural networks.\\n* **1949:** Alan Turing proposes the \"Turing Test\" as a measure of machine intelligence.\\n\\n**Golden Age (1950s-1970s)**\\n\\n* **1950:** Rebecca Clarke Cohen creates ELIZA, the first chatbot.\\n* **1956:** John McCarthy coins the term \"artificial intelligence\" at a conference at Dartmouth College.\\n* **1957:** Frank Rosenblatt develops the Perceptron, an early type of artificial neural network.\\n* **1966:** Joseph Weizenbaum creates ELIZA, a more sophisticated chatbot that simulates a psychotherapist.\\n\\n**Winter of AI (1970s-1980s)**\\n\\n* AI research faces limitations due to limited computing power and the inability to solve complex problems.\\n* \"Expert systems\" emerge, which are knowledge-based systems designed to mimic expert decision-making.\\n\\n**Renaissance (1980s-Present)**\\n\\n* **1980s:** Backpropagation algorithm improves the performance of neural networks.\\n* **1990s:** Supercomputers become more widely available, enabling the development of larger and more complex AI models.\\n* **2000s:** Machine learning techniques become increasingly popular, allowing AI systems to learn from data without explicit programming.\\n* **2010s:** Deep learning revolutionizes AI with its ability to process large amounts of data and find complex patterns.\\n\\n**Key Figures**\\n\\n* **Alan Turing:** Proposed the Turing Test and made significant contributions to computer science and AI.\\n* **Warren McCulloch and Walter Pitts:** Developed the theory of artificial neural networks.\\n* **Frank Rosenblatt:** Developed the Perceptron.\\n* **Joseph Weizenbaum:** Created ELIZA and raised ethical concerns about AI.\\n* **Geoffrey Hinton:** Pioneer in deep learning and artificial neural networks.\\n* **Yann LeCun:** Developed convolutional neural networks for image recognition.\\n* **Andrew Ng:** Co-founded Google Brain and is a leading figure in machine learning.',\n",
       " \"**Role of Data in AI Systems**\\n\\nData forms the foundation of artificial intelligence (AI) systems, enabling them to learn, make predictions, and perform complex tasks. The quality and quantity of data are crucial for the effectiveness of AI models.\\n\\n**Data Collection**\\n\\n* **Gathering Data:** Data can be collected from various sources, including sensors, databases, text documents, images, and videos.\\n* **Data Sampling:** To ensure representativeness, it is important to collect data from a wide range of samples that reflect the target population or domain.\\n* **Data Cleaning:** Collected data often contains noise, inconsistencies, or missing values that need to be cleaned and corrected.\\n\\n**Data Preprocessing**\\n\\n* **Feature Engineering:** Raw data is transformed into features that are relevant to the AI model's task. This involves processes like data normalization, encoding, and feature selection.\\n* **Dimensionality Reduction:** High-dimensional data can be compressed to reduce computational complexity and noise. Techniques like principal component analysis (PCA) and singular value decomposition (SVD) are used.\\n\\n**Data Labeling**\\n\\n* **Supervised Learning:** In supervised learning, data is labeled with the correct output or classification. This allows the AI model to learn the relationship between inputs and outputs.\\n* **Unsupervised Learning:** Unsupervised learning algorithms operate on unlabeled data to identify patterns and structures. Techniques like clustering and association rule mining are used.\\n* **Data Annotation:** Humans or automated tools can annotate data with labels, descriptions, or other metadata to provide context and improve AI model accuracy.\\n\\n**Significance of Data for AI Systems**\\n\\n* **Model Training:** Data is used to train AI models, teaching them how to perform specific tasks. Larger and more diverse datasets lead to more robust and accurate models.\\n* **Model Evaluation:** Data is used to evaluate the performance of AI models and identify areas for improvement. Metrics like accuracy, precision, and recall are used to assess model quality.\\n* **Continuous Improvement:** As new data becomes available, AI models can be continuously retrained to improve their performance and adapt to changing conditions.\\n\\n**Challenges and Best Practices**\\n\\n* **Data Privacy and Security:** Sensitive data must be protected from unauthorized access or misuse. Best practices include anonymization, encryption, and adhering to data privacy regulations.\\n* **Data Bias:** Data bias can lead to biased AI models. It is important to ensure that data is representative and free from discriminatory patterns.\\n* **Data Imbalance:** Class imbalance in data can skew the performance of AI models. Techniques like oversampling, undersampling, or synthetic data generation can be employed to address this issue.\\n* **Data Quality:** High-quality data is essential for effective AI models. Regular data validation and quality assurance processes should be in place to ensure data accuracy and consistency.\",\n",
       " '**Concept of Machine Learning**\\n\\nMachine learning (ML) is a subfield of artificial intelligence (AI) that allows machines to learn from data without explicit programming. Instead of being explicitly instructed on how to perform a task, ML algorithms are trained on historical or labeled data to identify patterns and make predictions or decisions.\\n\\n**Types of Machine Learning Algorithms**\\n\\nThere are three main types of ML algorithms:\\n\\n**1. Supervised Learning**\\n\\n* The algorithm learns by examining a labeled dataset, where each data point is associated with a known output value.\\n* Examples include:\\n    * **Regression:** Predicting a continuous output (e.g., predicting housing prices based on features like square footage and location).\\n    * **Classification:** Assigning a data point to a discrete class (e.g., classifying images as \"cat\" or \"dog\").\\n\\n**2. Unsupervised Learning**\\n\\n* The algorithm learns from an unlabeled dataset, where data points have no known output values.\\n* It identifies patterns and structures within the data to make inferences or group data points.\\n* Examples include:\\n    * **Clustering:** Grouping similar data points together (e.g., identifying customer segments based on purchase patterns).\\n    * **Dimensionality Reduction:** Reducing the number of features in a dataset while preserving relevant information (e.g., extracting key features from images).\\n\\n**3. Reinforcement Learning**\\n\\n* The algorithm learns through trial and error, interacting with an environment and receiving rewards or penalties for its actions.\\n* It aims to maximize the cumulative reward over time.\\n* Examples include:\\n    * **Game-Playing:** Training AI to play games like chess or Go.\\n    * **Robotics:** Controlling robots to navigate and perform tasks in real-world settings.\\n\\n**Other ML Algorithms**\\n\\nIn addition to these main types, there are other ML algorithms that serve specific purposes:\\n\\n* **Semi-Supervised Learning:** Combines labeled and unlabeled data to improve model performance.\\n* **Transfer Learning:** Reuses knowledge learned from one task for a related but different task.\\n* **Ensemble Learning:** Combines multiple models to make more accurate predictions.\\n\\n**Applications of Machine Learning**\\n\\nML algorithms have a wide range of applications, including:\\n\\n* Fraud detection\\n* Image recognition\\n* Natural language processing\\n* Predictive analytics\\n* Speech recognition\\n* Personalized recommendations\\n* Autonomous vehicles',\n",
       " '**Process of Training and Evaluating Machine Learning Models**\\n\\n**1. Data Collection and Preparation:**\\n   - Gather relevant data from various sources.\\n   - Clean, preprocess, and transform data to prepare it for training.\\n\\n**2. Model Selection:**\\n   - Determine the appropriate machine learning algorithm based on the task.\\n   - Consider factors such as data type, problem complexity, and computational resources.\\n\\n**3. Model Training:**\\n   - Divide data into training and validation sets.\\n   - Train the model using the training set.\\n   - Optimize model parameters to minimize loss function and improve performance.\\n\\n**4. Model Evaluation:**\\n   - Evaluate model performance on the validation set.\\n   - Use metrics such as accuracy, precision, recall, F1-score, and Area Under the Curve (AUC) to assess model effectiveness.\\n\\n**5. Model Tuning (Hyperparameter Optimization):**\\n   - Adjust model hyperparameters (e.g., learning rate, batch size) to enhance performance.\\n   - Employ techniques like cross-validation and grid search to identify optimal values.\\n\\n**6. Model Deployment:**\\n   - Deploy the trained model to a production environment.\\n   - Monitor model performance and collect feedback for continuous improvement.\\n\\n**7. Model Maintenance:**\\n   - Regularly retrain the model with new data as needed.\\n   - Monitor model performance over time and address any performance degradation.\\n\\n**Additional Considerations:**\\n\\n* **Data Splitting:** Use cross-validation techniques to divide data into training and validation sets, ensuring a representative sample.\\n* **Feature Engineering:** Extract relevant features from data to enhance model performance.\\n* **Overfitting and Underfitting Control:** Balance model complexity to prevent overfitting and ensure sufficient capacity for underfitting.\\n* **Bias and Fairness:** Consider potential biases and ensure model fairness through appropriate data preprocessing and evaluation methods.',\n",
       " \"**Model Selection**\\n\\nModel selection involves choosing the best machine learning model for a given problem. The goal is to find a model that balances accuracy, complexity, and interpretability. Selecting the right model is crucial for:\\n\\n* **Optimal Performance:** Different models have different strengths and weaknesses. Choosing the wrong model can lead to suboptimal performance and incorrect predictions.\\n* **Generalization Ability:** The model should not only perform well on the training data but also generalize to unseen data effectively. Overfitting or underfitting can occur if the model is too complex or too simple, respectively.\\n* **Interpretability:** Understanding how the model makes predictions can be valuable for debugging, improving performance, and making informed decisions.\\n\\n**Hyperparameter Tuning**\\n\\nHyperparameters are parameters within a machine learning model that control its behavior. They are distinct from model parameters, which are learned from the data. Hyperparameter tuning involves finding the optimal values for these parameters. This is important for:\\n\\n* **Optimizing Performance:** Hyperparameters can significantly impact the model's performance. Tuning these parameters can improve accuracy, reduce overfitting, and enhance robustness.\\n* **Robustness and Stability:** Proper hyperparameter tuning can make the model more resistant to noise and outliers in the data, leading to more consistent performance.\\n* **Efficiency:** Hyperparameter tuning can help find a balance between model complexity and performance, ensuring efficient training and prediction.\\n\\n**Process of Model Selection and Hyperparameter Tuning**\\n\\nModel selection and hyperparameter tuning often involve an iterative process:\\n\\n1. **Select Initial Model:** Choose a candidate model based on problem requirements and domain knowledge.\\n2. **Cross-Validation:** Divide the data into training and validation sets and evaluate the model on the validation set using cross-validation.\\n3. **Evaluate Performance:** Compare the performance of the candidate model against other models or baselines.\\n4. **Hyperparameter Tuning:** Optimize the hyperparameters of the selected model using techniques like grid search or Bayesian optimization.\\n5. **Refine Model:** Re-train the model with the tuned hyperparameters and evaluate it on an independent test set.\\n6. **Repeat:** If necessary, iterate through the process to explore different models or hyperparameter combinations.\\n\\n**Conclusion**\\n\\nModel selection and hyperparameter tuning are essential steps in the machine learning workflow. By carefully selecting a model and optimizing its hyperparameters, practitioners can maximize performance, improve generalization ability, enhance interpretability, and develop robust and efficient machine learning solutions.\",\n",
       " '**Concept of Deep Learning**\\n\\nDeep learning is a subfield of machine learning that uses artificial neural networks with multiple hidden layers to learn complex patterns and relationships from data. These neural networks are inspired by the structure and function of the human brain.\\n\\n**Types of Deep Learning Architectures**\\n\\nThere are various deep learning architectures, each suited for specific types of tasks:\\n\\n**1. Convolutional Neural Networks (CNNs):**\\n* Designed for processing images and other types of spatial data.\\n* Layers of convolutional filters extract features from the input, which are then processed by fully connected layers.\\n* Used in tasks such as image recognition, object detection, and semantic segmentation.\\n\\n**2. Recurrent Neural Networks (RNNs):**\\n* Handle sequential data, such as text and time series.\\n* Use a \"memory cell\" to store information from previous time steps and learn long-term dependencies.\\n* Types of RNNs include Long Short-Term Memory (LSTM) and Gated Recurrent Units (GRUs).\\n\\n**3. Transformer Networks:**\\n* Pay attention to specific parts of the input sequence and capture long-range dependencies.\\n* Do not use recurrent connections but instead rely on attention mechanisms.\\n* Used in tasks such as natural language processing and machine translation.\\n\\n**4. Generative Adversarial Networks (GANs):**\\n* Consist of two networks: a generator that creates samples and a discriminator that evaluates their authenticity.\\n* The networks compete against each other, leading to the generation of realistic-looking synthetic data.\\n* Used in tasks such as image synthesis, style transfer, and text generation.\\n\\n**5. Autoencoders:**\\n* Unsupervised learning models that learn a compressed representation of the input data.\\n* Consists of an encoder that compresses the input and a decoder that reconstructs the original data.\\n* Used in tasks such as dimensionality reduction, data compression, and anomaly detection.\\n\\n**6. Variational Autoencoders (VAEs):**\\n* Extension of autoencoders that introduce randomness in the latent representation.\\n* The latent representation follows a probability distribution, allowing for smoother interpolation between samples.\\n* Used in tasks such as generative modeling and disentangled representation learning.\\n\\n**7. Siamese Networks:**\\n* Sets of identical neural networks that are trained on pairs of inputs.\\n* Learn to compute the similarity or difference between two inputs.\\n* Used in tasks such as face recognition, object verification, and image retrieval.',\n",
       " '**Image Recognition**\\n\\n* **Object Detection and Classification:** Identifying and locating objects within images, such as people, vehicles, and animals.\\n* **Image Segmentation:** Dividing an image into distinct regions or objects, enabling detailed analysis and manipulation.\\n* **Facial Recognition:** Detecting and identifying faces in images, used for security, access control, and sentiment analysis.\\n* **Medical Imaging:** Analyzing medical scans (e.g., MRI, CT) to detect abnormalities, diagnose diseases, and plan treatments.\\n* **Remote Sensing:** Identifying land use, vegetation cover, and environmental changes from satellite imagery.\\n\\n**Natural Language Processing (NLP)**\\n\\n* **Machine Translation:** Translating text from one language to another, breaking down language barriers.\\n* **Text Summarization:** Condensing long text passages into concise summaries, improving comprehension and saving time.\\n* **Sentiment Analysis:** Determining the emotional sentiment (positive, negative, neutral) expressed in text, used for social media monitoring and customer feedback analysis.\\n* **Chatbots and Virtual Assistants:** Powering conversational AI systems that respond to user queries in natural language.\\n* **Named Entity Recognition (NER):** Identifying and extracting specific entities (e.g., organizations, people, locations) from text.\\n\\n**Speech Recognition**\\n\\n* **Voice Assistants:** Enabling smart devices (e.g., smartphones, smart speakers) to respond to voice commands and perform tasks.\\n* **Automated Transcription:** Converting spoken words into text, facilitating call center operations, medical record keeping, and content creation.\\n* **Speech Recognition for Accessibility:** Providing access to spoken content for hearing-impaired individuals.\\n* **Forensic Speech Analysis:** Identifying speakers, verifying recordings, and aiding in criminal investigations.\\n* **Customer Service and Call Center Automation:** Automating interactions with customers via speech recognition systems, improving efficiency and reducing costs.',\n",
       " '**Computer Vision**\\n\\nComputer vision is an interdisciplinary field that aims to equip computers with the ability to \"see\" and interpret images and videos like humans. It involves developing algorithms and techniques to extract useful information from visual data.\\n\\n**Object Detection and Recognition**\\n\\nObject detection and recognition are two fundamental tasks in computer vision:\\n\\n* **Object detection:** Locating and specifying the presence of an object within an image or video.\\n* **Object recognition:** Identifying the type or category of an object once it has been detected.\\n\\n**Techniques for Object Detection and Recognition**\\n\\nVarious techniques are used for object detection and recognition, including:\\n\\n**Traditional Approaches:**\\n\\n* **Thresholding:** Segmenting an image based on pixel intensity or color values.\\n* **Contour finding:** Detecting boundaries of objects in an image.\\n* **Template matching:** Comparing an image region with predefined templates.\\n\\n**Feature-Based Approaches:**\\n\\n* **Scale-Invariant Feature Transform (SIFT):** Extracting keypoints and descriptors that are invariant to scale and rotation.\\n* **Speeded Up Robust Features (SURF):** A faster alternative to SIFT.\\n* **Histogram of Oriented Gradients (HOG):** Computing the distribution of gradient orientations in local image regions.\\n\\n**Deep Learning-Based Approaches:**\\n\\n* **Convolutional Neural Networks (CNNs):** Learning hierarchical features from images using convolutional operations.\\n* **Region-based Convolutional Neural Networks (R-CNNs):** Detecting objects by generating region proposals and classifying them with CNNs.\\n* **You Only Look Once (YOLO):** Predicting bounding boxes and object classes in a single pass through the network.\\n\\n**Evaluation Metrics**\\n\\nThe performance of object detection and recognition algorithms is typically evaluated using metrics such as:\\n\\n* **Precision:** The percentage of detected objects that are correctly classified.\\n* **Recall:** The percentage of ground truth objects that are successfully detected.\\n* **Intersection over Union (IoU):** The overlap between predicted and ground truth bounding boxes.\\n\\n**Applications**\\n\\nComputer vision for object detection and recognition has numerous applications, including:\\n\\n* Surveillance and security\\n* Medical imaging\\n* Self-driving cars\\n* Industrial automation\\n* Image search and retrieval',\n",
       " \"**Autonomous Driving**\\n\\n* **Object detection:** Identifying and classifying objects like vehicles, pedestrians, and traffic signs in real-time using image data from cameras.\\n* **Lane detection:** Detecting and tracking lane markings to guide the vehicle's steering system.\\n* **Obstacle recognition:** Identifying potential hazards like objects in the road or pedestrians at crossings for evasive maneuvers.\\n* **Self-parking:** Assisting drivers with parallel or perpendicular parking by analyzing the environment and adjusting the vehicle's steering and acceleration.\\n* **Road sign recognition:** Interpreting traffic signs and providing relevant information to the vehicle's control system.\\n\\n**Medical Imaging**\\n\\n* **Disease detection:** Diagnosing conditions such as cancer, pneumonia, and other diseases by analyzing medical images (e.g., X-rays, CT scans, MRI scans).\\n* **Organ segmentation:** Outlining and isolating specific organs or structures within the body for further analysis or treatment planning.\\n* **Image-guided surgery:** Providing real-time guidance to surgeons during minimally invasive procedures by overlaying images onto surgical tools.\\n* **Quantitative analysis:** Measuring anatomical features or quantifying tissue density to assess disease severity or track treatment progress.\\n* **Radiology workflow automation:** Automating tasks like image retrieval, segmentation, and analysis to improve efficiency and reduce interpretation time.\\n\\n**Video Surveillance**\\n\\n* **Object tracking:** Identifying and following moving objects (e.g., people, vehicles) over time to monitor their behavior or activity.\\n* **Motion detection:** Identifying sudden or unusual movements within an area to flag potential security risks.\\n* **Facial recognition:** Matching faces in video footage against databases to identify suspects or locate missing persons.\\n* **Behavior analysis:** Monitoring and analyzing individual actions or group dynamics to detect anomalous patterns or potential threats.\\n* **Smart city applications:** Monitoring traffic flow, detecting accidents, and providing crowd analysis for improved urban planning and public safety.\",\n",
       " '**Natural Language Processing (NLP)**\\n\\nNLP is a subfield of Artificial Intelligence (AI) that enables computers to understand, process, and generate human language. It aims to bridge the gap between human communication and computational systems.\\n\\n**Text Classification**\\n\\nText classification is the task of assigning predefined categories or labels to text documents. It categorizes text into specific groups based on its content. Common techniques used for text classification include:\\n\\n* **Bag-of-Words (BoW) Model:** Represents text as a vector of word frequencies, ignoring word order and grammar.\\n* **N-grams:** Consider sequences of words (n-grams) as features, capturing local word dependencies.\\n* **Topic Modeling:** Identifies underlying themes or concepts in text using techniques like Latent Dirichlet Allocation (LDA).\\n* **Machine Learning Algorithms:** Supervised machine learning algorithms, such as Support Vector Machines or Convolutional Neural Networks, are trained on labeled data to classify new text.\\n\\n**Language Generation**\\n\\nLanguage generation is the task of converting structured data or abstract representations into coherent, grammatically correct human language. It allows computers to express information in a way that humans can readily understand. Techniques used for language generation include:\\n\\n* **Rule-Based Systems:** Use a set of predefined rules and a grammar to generate language.\\n* **Statistical Models:** Employ statistical techniques, such as N-grams, to generate text based on the probabilities of word sequences.\\n* **Neural Language Models:** Advanced deep learning models, such as Transformer Neural Networks, are used to generate text with high fluency and coherence.\\n* **Generative Adversarial Networks (GANs):** Two neural networks (generator and discriminator) compete to generate text that deceives the discriminator and learns from its feedback.\\n\\n**Applications of NLP**\\n\\nNLP has numerous applications in various industries, including:\\n\\n* **Machine Translation:** Translating text from one language to another.\\n* **Chatbots and Virtual Assistants:** Conversational systems that interact with humans using natural language.\\n* **Sentiment Analysis:** Detecting the emotional tone or sentiment expressed in text.\\n* **Text Summarization:** Condensing large amounts of text into concise summaries.\\n* **Named Entity Recognition:** Identifying named entities (e.g., persons, places, organizations) in text.',\n",
       " \"**Natural Language Processing (NLP)** is a subfield of artificial intelligence that gives computers the ability to understand and generate human language. NLP has a wide range of applications, including machine translation, chatbots, and sentiment analysis.\\n\\n**Machine Translation**\\n\\nMachine translation is the process of translating text from one language to another. NLP techniques are used to train machine translation models that can automatically translate text between different languages. These models are trained on large datasets of parallel texts, which are texts that have been translated into multiple languages. The models learn to identify the patterns in the text and to translate the text into the target language while preserving its meaning.\\n\\nMachine translation is used in a variety of applications, including:\\n\\n* Translating websites and documents\\n* Communicating with people who speak different languages\\n* Accessing information that is only available in other languages\\n\\n**Chatbots**\\n\\nChatbots are computer programs that simulate human conversation. NLP techniques are used to train chatbots to understand and respond to user input. These models are trained on large datasets of conversations, which are used to teach the chatbots the patterns of human conversation. The models learn to identify the intent of the user's input and to generate appropriate responses.\\n\\nChatbots are used in a variety of applications, including:\\n\\n* Providing customer service\\n* Answering questions\\n* Scheduling appointments\\n* Ordering products\\n\\n**Sentiment Analysis**\\n\\nSentiment analysis is the process of determining the emotional tone of a piece of text. NLP techniques are used to train sentiment analysis models that can automatically classify text as positive, negative, or neutral. These models are trained on large datasets of labeled text, which are texts that have been annotated with their emotional tone. The models learn to identify the patterns in the text and to classify the text according to its emotional tone.\\n\\nSentiment analysis is used in a variety of applications, including:\\n\\n* Identifying the sentiment of customer reviews\\n* Monitoring social media for brand sentiment\\n* Analyzing political discourse\\n\\nNLP is a powerful tool that can be used to improve the way computers interact with human language. NLP techniques are used in a wide range of applications, including machine translation, chatbots, and sentiment analysis. As NLP continues to develop, it is likely to find even more applications in the future.\"]"
      ]
     },
     "execution_count": 35,
     "metadata": {},
     "output_type": "execute_result"
    }
   ],
   "source": [
    "\n",
    "for question in result['Question'][7:]:\n",
    "    answers.append(generate_answer(question))\n",
    "\n",
    "answers"
   ]
  },
  {
   "cell_type": "code",
   "execution_count": 36,
   "metadata": {},
   "outputs": [
    {
     "data": {
      "text/html": [
       "<div>\n",
       "<style scoped>\n",
       "    .dataframe tbody tr th:only-of-type {\n",
       "        vertical-align: middle;\n",
       "    }\n",
       "\n",
       "    .dataframe tbody tr th {\n",
       "        vertical-align: top;\n",
       "    }\n",
       "\n",
       "    .dataframe thead th {\n",
       "        text-align: right;\n",
       "    }\n",
       "</style>\n",
       "<table border=\"1\" class=\"dataframe\">\n",
       "  <thead>\n",
       "    <tr style=\"text-align: right;\">\n",
       "      <th></th>\n",
       "      <th>Unnamed: 0</th>\n",
       "      <th>Question</th>\n",
       "      <th>Answer</th>\n",
       "    </tr>\n",
       "  </thead>\n",
       "  <tbody>\n",
       "    <tr>\n",
       "      <th>0</th>\n",
       "      <td>1</td>\n",
       "      <td>Describe the key characteristics and component...</td>\n",
       "      <td>**Key Characteristics of AI Systems:**\\n\\n* **...</td>\n",
       "    </tr>\n",
       "    <tr>\n",
       "      <th>1</th>\n",
       "      <td>2</td>\n",
       "      <td>Explain the different types of AI, such as mac...</td>\n",
       "      <td>**Types of Artificial Intelligence**\\n\\n**1. M...</td>\n",
       "    </tr>\n",
       "    <tr>\n",
       "      <th>2</th>\n",
       "      <td>3</td>\n",
       "      <td>Discuss the applications of AI in various indu...</td>\n",
       "      <td>**Healthcare**\\n\\n* **Disease diagnosis and pr...</td>\n",
       "    </tr>\n",
       "    <tr>\n",
       "      <th>3</th>\n",
       "      <td>4</td>\n",
       "      <td>Explain the ethical implications of AI, includ...</td>\n",
       "      <td>**Ethical Implications of Artificial Intellige...</td>\n",
       "    </tr>\n",
       "    <tr>\n",
       "      <th>4</th>\n",
       "      <td>5</td>\n",
       "      <td>Describe the history of AI, including major mi...</td>\n",
       "      <td>**Early History (Pre-1950s)**\\n\\n* **1943:** W...</td>\n",
       "    </tr>\n",
       "    <tr>\n",
       "      <th>5</th>\n",
       "      <td>6</td>\n",
       "      <td>Discuss the role of data in AI systems, includ...</td>\n",
       "      <td>**Role of Data in AI Systems**\\n\\nData forms t...</td>\n",
       "    </tr>\n",
       "    <tr>\n",
       "      <th>6</th>\n",
       "      <td>7</td>\n",
       "      <td>Explain the concept of machine learning and de...</td>\n",
       "      <td>**Concept of Machine Learning**\\n\\nMachine lea...</td>\n",
       "    </tr>\n",
       "    <tr>\n",
       "      <th>7</th>\n",
       "      <td>8</td>\n",
       "      <td>Describe the process of training and evaluatin...</td>\n",
       "      <td>**Process of Training and Evaluating Machine L...</td>\n",
       "    </tr>\n",
       "    <tr>\n",
       "      <th>8</th>\n",
       "      <td>9</td>\n",
       "      <td>Discuss the importance of model selection and ...</td>\n",
       "      <td>**Model Selection**\\n\\nModel selection involve...</td>\n",
       "    </tr>\n",
       "    <tr>\n",
       "      <th>9</th>\n",
       "      <td>10</td>\n",
       "      <td>Explain the concept of deep learning and descr...</td>\n",
       "      <td>**Concept of Deep Learning**\\n\\nDeep learning ...</td>\n",
       "    </tr>\n",
       "    <tr>\n",
       "      <th>10</th>\n",
       "      <td>11</td>\n",
       "      <td>Discuss the applications of deep learning in i...</td>\n",
       "      <td>**Image Recognition**\\n\\n* **Object Detection ...</td>\n",
       "    </tr>\n",
       "    <tr>\n",
       "      <th>11</th>\n",
       "      <td>12</td>\n",
       "      <td>Explain the concept of computer vision and des...</td>\n",
       "      <td>**Computer Vision**\\n\\nComputer vision is an i...</td>\n",
       "    </tr>\n",
       "    <tr>\n",
       "      <th>12</th>\n",
       "      <td>13</td>\n",
       "      <td>Discuss the applications of computer vision in...</td>\n",
       "      <td>**Autonomous Driving**\\n\\n* **Object detection...</td>\n",
       "    </tr>\n",
       "    <tr>\n",
       "      <th>13</th>\n",
       "      <td>14</td>\n",
       "      <td>Explain the concept of natural language proces...</td>\n",
       "      <td>**Natural Language Processing (NLP)**\\n\\nNLP i...</td>\n",
       "    </tr>\n",
       "    <tr>\n",
       "      <th>14</th>\n",
       "      <td>15</td>\n",
       "      <td>Discuss the applications of NLP in machine tra...</td>\n",
       "      <td>**Natural Language Processing (NLP)** is a sub...</td>\n",
       "    </tr>\n",
       "  </tbody>\n",
       "</table>\n",
       "</div>"
      ],
      "text/plain": [
       "    Unnamed: 0                                           Question  \\\n",
       "0            1  Describe the key characteristics and component...   \n",
       "1            2  Explain the different types of AI, such as mac...   \n",
       "2            3  Discuss the applications of AI in various indu...   \n",
       "3            4  Explain the ethical implications of AI, includ...   \n",
       "4            5  Describe the history of AI, including major mi...   \n",
       "5            6  Discuss the role of data in AI systems, includ...   \n",
       "6            7  Explain the concept of machine learning and de...   \n",
       "7            8  Describe the process of training and evaluatin...   \n",
       "8            9  Discuss the importance of model selection and ...   \n",
       "9           10  Explain the concept of deep learning and descr...   \n",
       "10          11  Discuss the applications of deep learning in i...   \n",
       "11          12  Explain the concept of computer vision and des...   \n",
       "12          13  Discuss the applications of computer vision in...   \n",
       "13          14  Explain the concept of natural language proces...   \n",
       "14          15  Discuss the applications of NLP in machine tra...   \n",
       "\n",
       "                                               Answer  \n",
       "0   **Key Characteristics of AI Systems:**\\n\\n* **...  \n",
       "1   **Types of Artificial Intelligence**\\n\\n**1. M...  \n",
       "2   **Healthcare**\\n\\n* **Disease diagnosis and pr...  \n",
       "3   **Ethical Implications of Artificial Intellige...  \n",
       "4   **Early History (Pre-1950s)**\\n\\n* **1943:** W...  \n",
       "5   **Role of Data in AI Systems**\\n\\nData forms t...  \n",
       "6   **Concept of Machine Learning**\\n\\nMachine lea...  \n",
       "7   **Process of Training and Evaluating Machine L...  \n",
       "8   **Model Selection**\\n\\nModel selection involve...  \n",
       "9   **Concept of Deep Learning**\\n\\nDeep learning ...  \n",
       "10  **Image Recognition**\\n\\n* **Object Detection ...  \n",
       "11  **Computer Vision**\\n\\nComputer vision is an i...  \n",
       "12  **Autonomous Driving**\\n\\n* **Object detection...  \n",
       "13  **Natural Language Processing (NLP)**\\n\\nNLP i...  \n",
       "14  **Natural Language Processing (NLP)** is a sub...  "
      ]
     },
     "execution_count": 36,
     "metadata": {},
     "output_type": "execute_result"
    }
   ],
   "source": [
    "result['Answer'] = answers\n",
    "result"
   ]
  },
  {
   "cell_type": "code",
   "execution_count": 37,
   "metadata": {},
   "outputs": [],
   "source": [
    "# result['Answer'] = result['Question'].apply(generate_answer)\n",
    "# result['Answer']"
   ]
  },
  {
   "cell_type": "code",
   "execution_count": 38,
   "metadata": {},
   "outputs": [
    {
     "data": {
      "text/plain": [
       "\"**Key Characteristics of AI Systems:**\\n\\n* **Intelligent Behavior:** AI systems exhibit capabilities that are typically associated with human intelligence, such as learning, problem-solving, decision-making, and natural language processing.\\n* **Data-Driven:** AI algorithms rely heavily on data to train and improve their performance. They can process vast amounts of data efficiently and extract patterns and insights.\\n* **Adaptability:** AI systems can adjust their behavior based on changes in the environment or new information. They can learn from their mistakes, refine their models, and adapt to new challenges.\\n* **Autonomy:** AI systems can operate independently of human intervention, performing tasks without explicit instructions. However, the level of autonomy varies depending on the specific system.\\n* **Scalability:** AI systems can be scaled up or down to handle different levels of complexity and data volumes.\\n\\n**Components of AI Systems:**\\n\\n**1. Sensors and Input:**\\n* AI systems collect data from various sources using sensors (e.g., cameras, microphones) or by accessing databases.\\n* This data serves as the input to the AI algorithm.\\n\\n**2. AI Algorithm:**\\n* The core of an AI system is its algorithm.\\n* This algorithm determines how the data is processed, analyzed, and used to make decisions.\\n* There are various types of AI algorithms, including machine learning, deep learning, and reinforcement learning.\\n\\n**3. Training Data:**\\n* AI algorithms need vast amounts of training data to learn and improve their performance.\\n* Training data contains labeled examples that help the algorithm identify patterns and make accurate predictions.\\n\\n**4. Model Training:**\\n* The AI algorithm is trained on the training data.\\n* This involves iteratively adjusting the algorithm's parameters to minimize errors and improve accuracy.\\n\\n**5. Inference:**\\n* Once trained, the AI model is used to make inferences on new data.\\n* It can make predictions, solve problems, or perform tasks based on the knowledge acquired from training.\\n\\n**6. Output:**\\n* The output of an AI system can be in various forms, such as predictions, recommendations, decisions, or actions.\\n* The output is typically used to support human decision-making or automate tasks.\\n\\n**7. Evaluation:**\\n* AI systems are evaluated based on their accuracy, reliability, and performance under different conditions.\\n* Constant evaluation helps optimize the AI system and enhance its capabilities.\""
      ]
     },
     "execution_count": 38,
     "metadata": {},
     "output_type": "execute_result"
    }
   ],
   "source": [
    "result['Answer'][0]"
   ]
  },
  {
   "cell_type": "code",
   "execution_count": 41,
   "metadata": {},
   "outputs": [
    {
     "data": {
      "text/plain": [
       "'Describe the key characteristics and components of artificial intelligence (AI) systems.'"
      ]
     },
     "execution_count": 41,
     "metadata": {},
     "output_type": "execute_result"
    }
   ],
   "source": [
    "result['Question'][0]"
   ]
  },
  {
   "cell_type": "code",
   "execution_count": 47,
   "metadata": {},
   "outputs": [
    {
     "name": "stderr",
     "output_type": "stream",
     "text": [
      "Retrying langchain_google_genai.chat_models._chat_with_retry.<locals>._chat_with_retry in 2.0 seconds as it raised InternalServerError: 500 An internal error has occurred. Please retry or report in https://developers.generativeai.google/guide/troubleshooting.\n"
     ]
    },
    {
     "name": "stdout",
     "output_type": "stream",
     "text": [
      "Grade: 9\n"
     ]
    },
    {
     "data": {
      "text/plain": [
       "9"
      ]
     },
     "execution_count": 47,
     "metadata": {},
     "output_type": "execute_result"
    }
   ],
   "source": [
    "review_grade(result['Question'][0], result['Answer'][0])"
   ]
  },
  {
   "cell_type": "code",
   "execution_count": null,
   "metadata": {},
   "outputs": [],
   "source": []
  },
  {
   "cell_type": "code",
   "execution_count": null,
   "metadata": {},
   "outputs": [],
   "source": []
  },
  {
   "cell_type": "code",
   "execution_count": null,
   "metadata": {},
   "outputs": [],
   "source": []
  },
  {
   "cell_type": "code",
   "execution_count": null,
   "metadata": {},
   "outputs": [],
   "source": []
  }
 ],
 "metadata": {
  "kernelspec": {
   "display_name": "Python 3",
   "language": "python",
   "name": "python3"
  },
  "language_info": {
   "codemirror_mode": {
    "name": "ipython",
    "version": 3
   },
   "file_extension": ".py",
   "mimetype": "text/x-python",
   "name": "python",
   "nbconvert_exporter": "python",
   "pygments_lexer": "ipython3",
   "version": "3.11.2"
  }
 },
 "nbformat": 4,
 "nbformat_minor": 2
}
