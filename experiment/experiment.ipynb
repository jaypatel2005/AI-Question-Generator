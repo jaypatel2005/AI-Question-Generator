{
 "cells": [
  {
   "cell_type": "code",
   "execution_count": 1,
   "metadata": {},
   "outputs": [
    {
     "data": {
      "text/plain": [
       "True"
      ]
     },
     "execution_count": 1,
     "metadata": {},
     "output_type": "execute_result"
    }
   ],
   "source": [
    "from dotenv import load_dotenv\n",
    "\n",
    "load_dotenv()"
   ]
  },
  {
   "cell_type": "code",
   "execution_count": 2,
   "metadata": {},
   "outputs": [],
   "source": [
    "import os\n",
    "\n",
    "key = os.getenv(\"GEMINI_KEY\")"
   ]
  },
  {
   "cell_type": "code",
   "execution_count": 3,
   "metadata": {},
   "outputs": [],
   "source": [
    "#@title Setting up the Auth\n",
    "import os\n",
    "import google.generativeai as genai\n",
    "\n",
    "from IPython.display import display\n",
    "from IPython.display import Markdown\n",
    "import textwrap\n",
    "\n",
    "genai.configure(api_key=key)"
   ]
  },
  {
   "cell_type": "code",
   "execution_count": 4,
   "metadata": {},
   "outputs": [],
   "source": [
    "def to_markdown(text):\n",
    "    text = text.replace('•', '  *')\n",
    "    return Markdown(textwrap.indent(text, '> ', predicate=lambda _: True))"
   ]
  },
  {
   "cell_type": "code",
   "execution_count": 5,
   "metadata": {},
   "outputs": [
    {
     "data": {
      "text/plain": [
       "[Model(name='models/chat-bison-001',\n",
       "       base_model_id='',\n",
       "       version='001',\n",
       "       display_name='PaLM 2 Chat (Legacy)',\n",
       "       description='A legacy text-only model optimized for chat conversations',\n",
       "       input_token_limit=4096,\n",
       "       output_token_limit=1024,\n",
       "       supported_generation_methods=['generateMessage', 'countMessageTokens'],\n",
       "       temperature=0.25,\n",
       "       top_p=0.95,\n",
       "       top_k=40),\n",
       " Model(name='models/text-bison-001',\n",
       "       base_model_id='',\n",
       "       version='001',\n",
       "       display_name='PaLM 2 (Legacy)',\n",
       "       description='A legacy model that understands text and generates text as an output',\n",
       "       input_token_limit=8196,\n",
       "       output_token_limit=1024,\n",
       "       supported_generation_methods=['generateText', 'countTextTokens', 'createTunedTextModel'],\n",
       "       temperature=0.7,\n",
       "       top_p=0.95,\n",
       "       top_k=40),\n",
       " Model(name='models/embedding-gecko-001',\n",
       "       base_model_id='',\n",
       "       version='001',\n",
       "       display_name='Embedding Gecko',\n",
       "       description='Obtain a distributed representation of a text.',\n",
       "       input_token_limit=1024,\n",
       "       output_token_limit=1,\n",
       "       supported_generation_methods=['embedText', 'countTextTokens'],\n",
       "       temperature=None,\n",
       "       top_p=None,\n",
       "       top_k=None),\n",
       " Model(name='models/gemini-1.0-pro',\n",
       "       base_model_id='',\n",
       "       version='001',\n",
       "       display_name='Gemini 1.0 Pro',\n",
       "       description='The best model for scaling across a wide range of tasks',\n",
       "       input_token_limit=30720,\n",
       "       output_token_limit=2048,\n",
       "       supported_generation_methods=['generateContent', 'countTokens'],\n",
       "       temperature=0.9,\n",
       "       top_p=1.0,\n",
       "       top_k=1),\n",
       " Model(name='models/gemini-1.0-pro-001',\n",
       "       base_model_id='',\n",
       "       version='001',\n",
       "       display_name='Gemini 1.0 Pro 001 (Tuning)',\n",
       "       description=('The best model for scaling across a wide range of tasks. This is a stable '\n",
       "                    'model that supports tuning.'),\n",
       "       input_token_limit=30720,\n",
       "       output_token_limit=2048,\n",
       "       supported_generation_methods=['generateContent', 'countTokens', 'createTunedModel'],\n",
       "       temperature=0.9,\n",
       "       top_p=1.0,\n",
       "       top_k=1),\n",
       " Model(name='models/gemini-1.0-pro-latest',\n",
       "       base_model_id='',\n",
       "       version='001',\n",
       "       display_name='Gemini 1.0 Pro Latest',\n",
       "       description=('The best model for scaling across a wide range of tasks. This is the latest '\n",
       "                    'model.'),\n",
       "       input_token_limit=30720,\n",
       "       output_token_limit=2048,\n",
       "       supported_generation_methods=['generateContent', 'countTokens'],\n",
       "       temperature=0.9,\n",
       "       top_p=1.0,\n",
       "       top_k=1),\n",
       " Model(name='models/gemini-1.0-pro-vision-latest',\n",
       "       base_model_id='',\n",
       "       version='001',\n",
       "       display_name='Gemini 1.0 Pro Vision',\n",
       "       description='The best image understanding model to handle a broad range of applications',\n",
       "       input_token_limit=12288,\n",
       "       output_token_limit=4096,\n",
       "       supported_generation_methods=['generateContent', 'countTokens'],\n",
       "       temperature=0.4,\n",
       "       top_p=1.0,\n",
       "       top_k=32),\n",
       " Model(name='models/gemini-pro',\n",
       "       base_model_id='',\n",
       "       version='001',\n",
       "       display_name='Gemini 1.0 Pro',\n",
       "       description='The best model for scaling across a wide range of tasks',\n",
       "       input_token_limit=30720,\n",
       "       output_token_limit=2048,\n",
       "       supported_generation_methods=['generateContent', 'countTokens'],\n",
       "       temperature=0.9,\n",
       "       top_p=1.0,\n",
       "       top_k=1),\n",
       " Model(name='models/gemini-pro-vision',\n",
       "       base_model_id='',\n",
       "       version='001',\n",
       "       display_name='Gemini 1.0 Pro Vision',\n",
       "       description='The best image understanding model to handle a broad range of applications',\n",
       "       input_token_limit=12288,\n",
       "       output_token_limit=4096,\n",
       "       supported_generation_methods=['generateContent', 'countTokens'],\n",
       "       temperature=0.4,\n",
       "       top_p=1.0,\n",
       "       top_k=32),\n",
       " Model(name='models/embedding-001',\n",
       "       base_model_id='',\n",
       "       version='001',\n",
       "       display_name='Embedding 001',\n",
       "       description='Obtain a distributed representation of a text.',\n",
       "       input_token_limit=2048,\n",
       "       output_token_limit=1,\n",
       "       supported_generation_methods=['embedContent'],\n",
       "       temperature=None,\n",
       "       top_p=None,\n",
       "       top_k=None),\n",
       " Model(name='models/aqa',\n",
       "       base_model_id='',\n",
       "       version='001',\n",
       "       display_name='Model that performs Attributed Question Answering.',\n",
       "       description=('Model trained to return answers to questions that are grounded in provided '\n",
       "                    'sources, along with estimating answerable probability.'),\n",
       "       input_token_limit=7168,\n",
       "       output_token_limit=1024,\n",
       "       supported_generation_methods=['generateAnswer'],\n",
       "       temperature=0.2,\n",
       "       top_p=1.0,\n",
       "       top_k=40)]"
      ]
     },
     "execution_count": 5,
     "metadata": {},
     "output_type": "execute_result"
    }
   ],
   "source": [
    "models = [m for m in genai.list_models()]\n",
    "models"
   ]
  },
  {
   "cell_type": "code",
   "execution_count": 6,
   "metadata": {},
   "outputs": [
    {
     "data": {
      "text/plain": [
       " genai.GenerativeModel(\n",
       "   model_name='models/gemini-pro',\n",
       "   generation_config={}.\n",
       "   safety_settings={}\n",
       ")"
      ]
     },
     "execution_count": 6,
     "metadata": {},
     "output_type": "execute_result"
    }
   ],
   "source": [
    "model = genai.GenerativeModel(\"gemini-pro\")\n",
    "model"
   ]
  },
  {
   "cell_type": "code",
   "execution_count": 7,
   "metadata": {},
   "outputs": [
    {
     "data": {
      "text/plain": [
       "ChatGoogleGenerativeAI(model='gemini-pro', google_api_key=SecretStr('**********'), client= genai.GenerativeModel(\n",
       "   model_name='models/gemini-pro',\n",
       "   generation_config={}.\n",
       "   safety_settings={}\n",
       "))"
      ]
     },
     "execution_count": 7,
     "metadata": {},
     "output_type": "execute_result"
    }
   ],
   "source": [
    "from langchain_google_genai import ChatGoogleGenerativeAI\n",
    "from langchain_google_genai import GoogleGenerativeAIEmbeddings\n",
    "from langchain.prompts import ChatPromptTemplate\n",
    "from langchain.schema.output_parser import StrOutputParser\n",
    "\n",
    "\n",
    "llm = ChatGoogleGenerativeAI(model=\"gemini-pro\",\n",
    "                             temperature=0.7,\n",
    "                             google_api_key=key)\n",
    "\n",
    "llm"
   ]
  },
  {
   "cell_type": "code",
   "execution_count": 8,
   "metadata": {},
   "outputs": [],
   "source": [
    "RESPONSE_JSON = \"\"\"\n",
    "{\n",
    "    \"1\" : \"question\",\n",
    "    \"2\" : \"question\",\n",
    "    \"3\" : \"question\",\n",
    "    ...\n",
    "}\n",
    "\n",
    "\"\"\""
   ]
  },
  {
   "cell_type": "code",
   "execution_count": 9,
   "metadata": {},
   "outputs": [],
   "source": [
    "TEMPLATE = \"\"\"\n",
    "You are an expert question generator. we are conducting an exam on \\\n",
    "{subject} your job is to generate 15 question of type {typ} for that subject.  \\\n",
    "Make sure the questions are not repeated and check all the questions to be conforming the text as well. \\\n",
    "Make sure to format your response like  RESPONSE_JSON below  and use it as a guide. \\\n",
    "Ensure to make {number} Questions \\\n",
    "### RESPONSE_JSON  \\ \n",
    "{response_json} \\\n",
    "\n",
    "\"\"\""
   ]
  },
  {
   "cell_type": "code",
   "execution_count": 10,
   "metadata": {},
   "outputs": [],
   "source": [
    "number = 15\n",
    "subject = \"financial reporting\"\n",
    "typ = \"Open Quetion\""
   ]
  },
  {
   "cell_type": "code",
   "execution_count": 11,
   "metadata": {},
   "outputs": [],
   "source": [
    "gen_prompt = ChatPromptTemplate.from_template(TEMPLATE)\n",
    "\n",
    "output_parser = StrOutputParser()"
   ]
  },
  {
   "cell_type": "code",
   "execution_count": 12,
   "metadata": {},
   "outputs": [],
   "source": [
    "generation = gen_prompt | llm | output_parser"
   ]
  },
  {
   "cell_type": "code",
   "execution_count": 13,
   "metadata": {},
   "outputs": [],
   "source": [
    "quiz = generation.invoke({\n",
    "    \"subject\" : subject,\n",
    "    \"typ\" : typ,\n",
    "    \"number\" : number,\n",
    "    \"response_json\" : RESPONSE_JSON\n",
    "})\n",
    "\n",
    "# to_markdown(response)"
   ]
  },
  {
   "cell_type": "code",
   "execution_count": 14,
   "metadata": {},
   "outputs": [
    {
     "name": "stdout",
     "output_type": "stream",
     "text": [
      "### RESPONSE_JSON\n",
      "\n",
      "{\n",
      "    \"1\": \"Explain the concept of materiality in financial reporting and its significance in determining which items should be disclosed in the financial statements.\",\n",
      "    \"2\": \"Describe the different financial statement formats used for different types of entities and explain the reasons for these differences.\",\n",
      "    \"3\": \"Discuss the accounting treatment of contingent liabilities and the potential implications for financial reporting.\",\n",
      "    \"4\": \"Explain the importance of notes to financial statements and provide examples of the types of information typically disclosed in these notes.\",\n",
      "    \"5\": \"Describe the objectives of the conceptual framework for financial reporting and how it guides the development of accounting standards.\",\n",
      "    \"6\": \"Discuss the qualitative characteristics of financial information and their importance in assessing the usefulness of financial statements.\",\n",
      "    \"7\": \"Explain the role of the auditor in the financial reporting process and describe the key audit procedures performed to ensure the accuracy and reliability of financial statements.\",\n",
      "    \"8\": \"Describe the different types of financial ratios used to analyze a company's financial performance and explain their limitations.\",\n",
      "    \"9\": \"Discuss the ethical considerations that accountants face in financial reporting and the consequences of violating ethical principles.\",\n",
      "    \"10\": \"Explain the concept of consolidated financial statements and the reasons why they are prepared.\",\n",
      "    \"11\": \"Describe the accounting treatment of goodwill and the potential implications for financial reporting.\",\n",
      "    \"12\": \"Discuss the role of internal control in financial reporting and explain the key components of an effective internal control system.\",\n",
      "    \"13\": \"Explain the concept of segment reporting and its importance in providing users of financial statements with a better understanding of a company's operations.\",\n",
      "    \"14\": \"Describe the accounting treatment of foreign currency transactions and the potential implications for financial reporting.\",\n",
      "    \"15\": \"Discuss the challenges faced by accountants in adapting financial reporting standards to the changing business environment.\"\n",
      "}\n"
     ]
    }
   ],
   "source": [
    "print(quiz)"
   ]
  },
  {
   "cell_type": "code",
   "execution_count": 15,
   "metadata": {},
   "outputs": [],
   "source": [
    "TEMPLATE2=\"\"\"\n",
    "You are an expert english grammarian and writer. Given a Question for {subject} students.\\\n",
    "You need to evaluate the complexity of the question and give a complete analysis of the quiz. Only use at max 50 words for complexity analysis. \n",
    "if the quiz is not at per with the cognitive and analytical abilities of the students,\\\n",
    "update the quiz questions which needs to be changed and change the tone such that it perfectly fits the student abilities\n",
    "Quiz:\n",
    "{quiz}\n",
    "\n",
    "Check from an expert English Writer of the above quiz:\n",
    "\n",
    "Generate the response in the following format:\n",
    "### RESPONSE_JSON\n",
    "{response_json}\n",
    "\"\"\"\n",
    "\n",
    "eval_prompt = ChatPromptTemplate.from_template(TEMPLATE2)"
   ]
  },
  {
   "cell_type": "code",
   "execution_count": 16,
   "metadata": {},
   "outputs": [],
   "source": [
    "evaluation = eval_prompt | llm | output_parser"
   ]
  },
  {
   "cell_type": "code",
   "execution_count": 17,
   "metadata": {},
   "outputs": [
    {
     "name": "stdout",
     "output_type": "stream",
     "text": [
      "**Complexity Analysis:**\n",
      "\n",
      "The quiz questions are comprehensive and cover a wide range of financial reporting topics. They require students to demonstrate a deep understanding of accounting concepts, principles, and standards. The questions are appropriate for students with a solid foundation in financial reporting.\n",
      "\n",
      "**Updated Quiz Questions:**\n",
      "\n",
      "No changes are necessary as the quiz questions are well-structured and aligned with the cognitive and analytical abilities of financial reporting students.\n",
      "\n",
      "### RESPONSE_JSON\n",
      "\n",
      "{\n",
      "    \"1\": \"Explain the concept of materiality in financial reporting and discuss its significance in determining which items should be disclosed in the financial statements.\",\n",
      "    \"2\": \"Describe the different financial statement formats used for various types of entities and explain the reasons for these differences.\",\n",
      "    \"3\": \"Discuss the accounting treatment of contingent liabilities and their potential implications for financial reporting.\",\n",
      "    \"4\": \"Explain the importance of notes to financial statements and provide examples of the types of information typically disclosed in these notes.\",\n",
      "    \"5\": \"Describe the objectives of the conceptual framework for financial reporting and explain how it guides the development of accounting standards.\",\n",
      "    \"6\": \"Discuss the qualitative characteristics of financial information and their importance in assessing the usefulness of financial statements.\",\n",
      "    \"7\": \"Explain the role of the auditor in the financial reporting process and describe the key audit procedures performed to ensure the accuracy and reliability of financial statements.\",\n",
      "    \"8\": \"Describe the different types of financial ratios used to analyze a company's financial performance and explain their limitations.\",\n",
      "    \"9\": \"Discuss the ethical considerations that accountants face in financial reporting and the consequences of violating ethical principles.\",\n",
      "    \"10\": \"Explain the concept of consolidated financial statements and discuss the reasons why they are prepared.\",\n",
      "    \"11\": \"Describe the accounting treatment of goodwill and its potential implications for financial reporting.\",\n",
      "    \"12\": \"Discuss the role of internal control in financial reporting and explain the key components of an effective internal control system.\",\n",
      "    \"13\": \"Explain the concept of segment reporting and its importance in providing users of financial statements with a better understanding of a company's operations.\",\n",
      "    \"14\": \"Describe the accounting treatment of foreign currency transactions and their potential implications for financial reporting.\",\n",
      "    \"15\": \"Discuss the challenges faced by accountants in adapting financial reporting standards to the changing business environment.\"\n",
      "}\n"
     ]
    }
   ],
   "source": [
    "quiz_eval = evaluation.invoke({\n",
    "    \"subject\" : subject,\n",
    "    \"quiz\" : quiz,\n",
    "    \"response_json\" : RESPONSE_JSON\n",
    "})\n",
    "\n",
    "print(quiz_eval)"
   ]
  },
  {
   "cell_type": "code",
   "execution_count": 18,
   "metadata": {},
   "outputs": [
    {
     "name": "stdout",
     "output_type": "stream",
     "text": [
      "{\n",
      "    \"1\": \"Explain the concept of materiality in financial reporting and its significance in determining which items should be disclosed in the financial statements.\",\n",
      "    \"2\": \"Describe the different financial statement formats used for different types of entities and explain the reasons for these differences.\",\n",
      "    \"3\": \"Discuss the accounting treatment of contingent liabilities and the potential implications for financial reporting.\",\n",
      "    \"4\": \"Explain the importance of notes to financial statements and provide examples of the types of information typically disclosed in these notes.\",\n",
      "    \"5\": \"Describe the objectives of the conceptual framework for financial reporting and how it guides the development of accounting standards.\",\n",
      "    \"6\": \"Discuss the qualitative characteristics of financial information and their importance in assessing the usefulness of financial statements.\",\n",
      "    \"7\": \"Explain the role of the auditor in the financial reporting process and describe the key audit procedures performed to ensure the accuracy and reliability of financial statements.\",\n",
      "    \"8\": \"Describe the different types of financial ratios used to analyze a company's financial performance and explain their limitations.\",\n",
      "    \"9\": \"Discuss the ethical considerations that accountants face in financial reporting and the consequences of violating ethical principles.\",\n",
      "    \"10\": \"Explain the concept of consolidated financial statements and the reasons why they are prepared.\",\n",
      "    \"11\": \"Describe the accounting treatment of goodwill and the potential implications for financial reporting.\",\n",
      "    \"12\": \"Discuss the role of internal control in financial reporting and explain the key components of an effective internal control system.\",\n",
      "    \"13\": \"Explain the concept of segment reporting and its importance in providing users of financial statements with a better understanding of a company's operations.\",\n",
      "    \"14\": \"Describe the accounting treatment of foreign currency transactions and the potential implications for financial reporting.\",\n",
      "    \"15\": \"Discuss the challenges faced by accountants in adapting financial reporting standards to the changing business environment.\"\n",
      "}\n"
     ]
    }
   ],
   "source": [
    "import re\n",
    "\n",
    "# Regular expression pattern\n",
    "pattern = r'\\{.*?\\}'\n",
    "\n",
    "# Extracting substring\n",
    "substring = re.search(pattern, quiz, re.DOTALL)\n",
    "\n",
    "if substring:\n",
    "    substring = substring.group()\n",
    "    print(substring)\n",
    "else:\n",
    "    print(\"No response_json found.\")\n"
   ]
  },
  {
   "cell_type": "code",
   "execution_count": 19,
   "metadata": {},
   "outputs": [],
   "source": [
    "import json\n",
    "\n",
    "quiz_json = json.loads(substring)"
   ]
  },
  {
   "cell_type": "code",
   "execution_count": 20,
   "metadata": {},
   "outputs": [
    {
     "data": {
      "text/html": [
       "<div>\n",
       "<style scoped>\n",
       "    .dataframe tbody tr th:only-of-type {\n",
       "        vertical-align: middle;\n",
       "    }\n",
       "\n",
       "    .dataframe tbody tr th {\n",
       "        vertical-align: top;\n",
       "    }\n",
       "\n",
       "    .dataframe thead th {\n",
       "        text-align: right;\n",
       "    }\n",
       "</style>\n",
       "<table border=\"1\" class=\"dataframe\">\n",
       "  <thead>\n",
       "    <tr style=\"text-align: right;\">\n",
       "      <th></th>\n",
       "      <th>Question</th>\n",
       "    </tr>\n",
       "  </thead>\n",
       "  <tbody>\n",
       "    <tr>\n",
       "      <th>1</th>\n",
       "      <td>Explain the concept of materiality in financia...</td>\n",
       "    </tr>\n",
       "    <tr>\n",
       "      <th>2</th>\n",
       "      <td>Describe the different financial statement for...</td>\n",
       "    </tr>\n",
       "    <tr>\n",
       "      <th>3</th>\n",
       "      <td>Discuss the accounting treatment of contingent...</td>\n",
       "    </tr>\n",
       "    <tr>\n",
       "      <th>4</th>\n",
       "      <td>Explain the importance of notes to financial s...</td>\n",
       "    </tr>\n",
       "    <tr>\n",
       "      <th>5</th>\n",
       "      <td>Describe the objectives of the conceptual fram...</td>\n",
       "    </tr>\n",
       "  </tbody>\n",
       "</table>\n",
       "</div>"
      ],
      "text/plain": [
       "                                            Question\n",
       "1  Explain the concept of materiality in financia...\n",
       "2  Describe the different financial statement for...\n",
       "3  Discuss the accounting treatment of contingent...\n",
       "4  Explain the importance of notes to financial s...\n",
       "5  Describe the objectives of the conceptual fram..."
      ]
     },
     "execution_count": 20,
     "metadata": {},
     "output_type": "execute_result"
    }
   ],
   "source": [
    "import pandas as pd\n",
    "\n",
    "df = pd.DataFrame.from_dict(quiz_json, orient = \"index\", columns=[\"Question\"])\n",
    "df.head()"
   ]
  },
  {
   "cell_type": "code",
   "execution_count": 21,
   "metadata": {},
   "outputs": [
    {
     "name": "stdout",
     "output_type": "stream",
     "text": [
      "Describe the different financial statement formats used for different types of entities and explain the reasons for these differences.\n"
     ]
    }
   ],
   "source": [
    "print(df['Question'][1])"
   ]
  },
  {
   "cell_type": "code",
   "execution_count": 22,
   "metadata": {},
   "outputs": [],
   "source": [
    "df.to_csv(\"Questions.csv\")"
   ]
  },
  {
   "cell_type": "code",
   "execution_count": 23,
   "metadata": {},
   "outputs": [],
   "source": [
    "TEMPLATE3 = \"\"\"\n",
    "Hey, I need your help reviewing my answer for a question.\n",
    "grade can be any floating point number\n",
    "\n",
    "Here's the question: \n",
    "{que}\n",
    "\n",
    "My answer: \n",
    "{ans}\n",
    "\n",
    "Generate the response in the following format:\n",
    "### Grade \n",
    "grade/10\n",
    "\"\"\"\n",
    "\n",
    "grade_prompt = ChatPromptTemplate.from_template(TEMPLATE3)"
   ]
  },
  {
   "cell_type": "code",
   "execution_count": 24,
   "metadata": {},
   "outputs": [],
   "source": [
    "grading = grade_prompt | llm | output_parser"
   ]
  },
  {
   "cell_type": "code",
   "execution_count": 25,
   "metadata": {},
   "outputs": [],
   "source": [
    "que = df['Question'][1]\n",
    "ans = \"Materiality in financial reporting refers to the importance or significance of information to the users of financial statements. Information is considered material if its omission or misstatement could influence the economic decisions of users. The concept of materiality is subjective and depends on factors such as the size, nature, and circumstances of the item. Significance in financial reporting ensures that only relevant information is included in the financial statements, preventing them from being cluttered with trivial details. Materiality guides accountants and auditors in determining what information to disclose and what to omit, helping users focus on key aspects that impact decision-making.\""
   ]
  },
  {
   "cell_type": "code",
   "execution_count": 26,
   "metadata": {},
   "outputs": [
    {
     "name": "stdout",
     "output_type": "stream",
     "text": [
      "### Grade\n",
      "2/10\n"
     ]
    }
   ],
   "source": [
    "grade = grading.invoke({\n",
    "    \"que\" : que,\n",
    "    \"ans\" : ans\n",
    "})\n",
    "\n",
    "print(grade)"
   ]
  },
  {
   "cell_type": "code",
   "execution_count": 27,
   "metadata": {},
   "outputs": [
    {
     "name": "stdout",
     "output_type": "stream",
     "text": [
      "RESPONSE_JSON not found in the string.\n"
     ]
    }
   ],
   "source": [
    "search_word = \"Grade\\n\"\n",
    "\n",
    "# Find the index where RESPONSE_JSON occurs\n",
    "index = quiz.find(search_word)\n",
    "\n",
    "# Extract the substring after RESPONSE_JSON\n",
    "if index != -1:\n",
    "    substring = quiz[index + len(search_word):]\n",
    "    print(substring)\n",
    "else:\n",
    "    print(\"RESPONSE_JSON not found in the string.\")\n"
   ]
  },
  {
   "cell_type": "code",
   "execution_count": 28,
   "metadata": {},
   "outputs": [],
   "source": [
    "import re"
   ]
  },
  {
   "cell_type": "code",
   "execution_count": 29,
   "metadata": {},
   "outputs": [
    {
     "name": "stdout",
     "output_type": "stream",
     "text": [
      "Grade: 2\n"
     ]
    }
   ],
   "source": [
    "pattern = r'\\b\\d+\\b'\n",
    "\n",
    "match = re.search(pattern, grade)\n",
    "\n",
    "if match:\n",
    "    # Extract the integer grade\n",
    "    grade = int(match.group())\n",
    "    print(\"Grade:\", grade)\n",
    "else:\n",
    "    print(\"No grade found.\")"
   ]
  },
  {
   "cell_type": "code",
   "execution_count": 30,
   "metadata": {},
   "outputs": [],
   "source": [
    "def review_grade(row):\n",
    "    grade = grading.invoke({\n",
    "    \"que\" : row['Question'],\n",
    "    \"ans\" : row['Answer']\n",
    "    })\n",
    "\n",
    "    pattern = r'\\b\\d+\\b'\n",
    "\n",
    "    match = re.search(pattern, grade)\n",
    "\n",
    "    if match:\n",
    "        # Extract the integer grade\n",
    "        grade = int(match.group())\n",
    "        print(\"Grade:\", grade)\n",
    "    else:\n",
    "        print(\"No grade found.\")\n",
    "    \n",
    "    return grade"
   ]
  },
  {
   "cell_type": "code",
   "execution_count": 31,
   "metadata": {},
   "outputs": [],
   "source": [
    "def generate_answer(que):\n",
    "    return model.generate_content(que).text"
   ]
  },
  {
   "cell_type": "code",
   "execution_count": 32,
   "metadata": {},
   "outputs": [
    {
     "data": {
      "text/html": [
       "<div>\n",
       "<style scoped>\n",
       "    .dataframe tbody tr th:only-of-type {\n",
       "        vertical-align: middle;\n",
       "    }\n",
       "\n",
       "    .dataframe tbody tr th {\n",
       "        vertical-align: top;\n",
       "    }\n",
       "\n",
       "    .dataframe thead th {\n",
       "        text-align: right;\n",
       "    }\n",
       "</style>\n",
       "<table border=\"1\" class=\"dataframe\">\n",
       "  <thead>\n",
       "    <tr style=\"text-align: right;\">\n",
       "      <th></th>\n",
       "      <th>Unnamed: 0</th>\n",
       "      <th>Question</th>\n",
       "    </tr>\n",
       "  </thead>\n",
       "  <tbody>\n",
       "    <tr>\n",
       "      <th>0</th>\n",
       "      <td>1</td>\n",
       "      <td>Explain the concept of materiality in financia...</td>\n",
       "    </tr>\n",
       "    <tr>\n",
       "      <th>1</th>\n",
       "      <td>2</td>\n",
       "      <td>Describe the different financial statement for...</td>\n",
       "    </tr>\n",
       "    <tr>\n",
       "      <th>2</th>\n",
       "      <td>3</td>\n",
       "      <td>Discuss the accounting treatment of contingent...</td>\n",
       "    </tr>\n",
       "    <tr>\n",
       "      <th>3</th>\n",
       "      <td>4</td>\n",
       "      <td>Explain the importance of notes to financial s...</td>\n",
       "    </tr>\n",
       "    <tr>\n",
       "      <th>4</th>\n",
       "      <td>5</td>\n",
       "      <td>Describe the objectives of the conceptual fram...</td>\n",
       "    </tr>\n",
       "    <tr>\n",
       "      <th>5</th>\n",
       "      <td>6</td>\n",
       "      <td>Discuss the qualitative characteristics of fin...</td>\n",
       "    </tr>\n",
       "    <tr>\n",
       "      <th>6</th>\n",
       "      <td>7</td>\n",
       "      <td>Explain the role of the auditor in the financi...</td>\n",
       "    </tr>\n",
       "    <tr>\n",
       "      <th>7</th>\n",
       "      <td>8</td>\n",
       "      <td>Describe the different types of financial rati...</td>\n",
       "    </tr>\n",
       "    <tr>\n",
       "      <th>8</th>\n",
       "      <td>9</td>\n",
       "      <td>Discuss the ethical considerations that accoun...</td>\n",
       "    </tr>\n",
       "    <tr>\n",
       "      <th>9</th>\n",
       "      <td>10</td>\n",
       "      <td>Explain the concept of consolidated financial ...</td>\n",
       "    </tr>\n",
       "    <tr>\n",
       "      <th>10</th>\n",
       "      <td>11</td>\n",
       "      <td>Describe the accounting treatment of goodwill ...</td>\n",
       "    </tr>\n",
       "    <tr>\n",
       "      <th>11</th>\n",
       "      <td>12</td>\n",
       "      <td>Discuss the role of internal control in financ...</td>\n",
       "    </tr>\n",
       "    <tr>\n",
       "      <th>12</th>\n",
       "      <td>13</td>\n",
       "      <td>Explain the concept of segment reporting and i...</td>\n",
       "    </tr>\n",
       "    <tr>\n",
       "      <th>13</th>\n",
       "      <td>14</td>\n",
       "      <td>Describe the accounting treatment of foreign c...</td>\n",
       "    </tr>\n",
       "    <tr>\n",
       "      <th>14</th>\n",
       "      <td>15</td>\n",
       "      <td>Discuss the challenges faced by accountants in...</td>\n",
       "    </tr>\n",
       "  </tbody>\n",
       "</table>\n",
       "</div>"
      ],
      "text/plain": [
       "    Unnamed: 0                                           Question\n",
       "0            1  Explain the concept of materiality in financia...\n",
       "1            2  Describe the different financial statement for...\n",
       "2            3  Discuss the accounting treatment of contingent...\n",
       "3            4  Explain the importance of notes to financial s...\n",
       "4            5  Describe the objectives of the conceptual fram...\n",
       "5            6  Discuss the qualitative characteristics of fin...\n",
       "6            7  Explain the role of the auditor in the financi...\n",
       "7            8  Describe the different types of financial rati...\n",
       "8            9  Discuss the ethical considerations that accoun...\n",
       "9           10  Explain the concept of consolidated financial ...\n",
       "10          11  Describe the accounting treatment of goodwill ...\n",
       "11          12  Discuss the role of internal control in financ...\n",
       "12          13  Explain the concept of segment reporting and i...\n",
       "13          14  Describe the accounting treatment of foreign c...\n",
       "14          15  Discuss the challenges faced by accountants in..."
      ]
     },
     "execution_count": 32,
     "metadata": {},
     "output_type": "execute_result"
    }
   ],
   "source": [
    "result = pd.read_csv(\"Questions.csv\")\n",
    "\n",
    "result"
   ]
  },
  {
   "cell_type": "code",
   "execution_count": 36,
   "metadata": {},
   "outputs": [
    {
     "data": {
      "text/plain": [
       "[\"**Concept of Materiality in Financial Reporting**\\n\\nMateriality is a fundamental concept in financial reporting that refers to the significance of financial information that should be disclosed in the financial statements. It determines whether an item must be disclosed to avoid misleading users of the financial statements.\\n\\n**Significance of Materiality**\\n\\nMateriality ensures that only information that has a significant impact on the financial position, results of operations, or cash flows of a company is included in the financial statements. It helps prevent clutter and focuses attention on the most important aspects of a company's financial performance.\\n\\n**Determining Materiality**\\n\\nDetermining materiality is a judgmental process that considers both qualitative and quantitative factors:\\n\\n**Qualitative Factors:**\\n\\n* Nature of the item\\n* Potential impact on decision-making\\n* Sensitivity of users of the financial statements\\n\\n**Quantitative Factors:**\\n\\n* Size or magnitude of the item\\n* Percentage of total assets, revenue, or expenses\\n* Trend analysis\\n\\n**Materiality Threshold**\\n\\nCompanies establish a materiality threshold, which is the minimum level of significance that an item must meet to be disclosed. This threshold may vary depending on the size, industry, and complexity of the company.\\n\\n**Disclosure Requirements**\\n\\nItems that meet or exceed the materiality threshold must be disclosed in the financial statements. This may include:\\n\\n* Unusual gains or losses\\n* Contingent liabilities\\n* Related-party transactions\\n* Subsequent events\\n* Off-balance sheet items\\n\\n**Significance**\\n\\nMateriality plays a crucial role in:\\n\\n* **Preventing financial statement fraud:** By focusing on disclosing only significant items, it helps minimize the risk of intentional or unintentional misstatements.\\n* **Improving financial statement analysis:** Users can more easily understand and interpret the financial statements by focusing on the most material information.\\n* **Ensuring transparency:** Materiality promotes transparency by requiring companies to disclose information that could materially affect their financial position or performance.\\n* **Reducing accounting costs:** By limiting disclosures to material items, companies can reduce the time and resources spent on reporting.\\n\\n**Conclusion**\\n\\nMateriality is a key concept in financial reporting that ensures the disclosure of only significant information in the financial statements. By considering both qualitative and quantitative factors, companies can determine the materiality threshold and disclose items that have a meaningful impact on their financial performance. This helps users analyze and understand the company's financial position and make informed decisions.\",\n",
       " \"**Different Financial Statement Formats**\\n\\nThe format of financial statements varies depending on the type of entity. The primary differences are:\\n\\n**1. For-Profit Entities:**\\n* **Balance Sheet:** Assets on the left, liabilities and equity on the right.\\n* **Income Statement:** Revenue on top, expenses below, with Net Income at the bottom.\\n* **Cash Flow Statement:** Presents the inflows and outflows of cash from operating, investing, and financing activities.\\n\\n**Reasons:**\\n* For-profit entities focus on generating profits and maximizing shareholder value.\\n* The balance sheet shows the financial position of the entity at a specific point in time, while the income statement summarizes its performance over a period.\\n* The cash flow statement provides insights into the entity's liquidity and cash management.\\n\\n**2. Non-Profit Entities:**\\n* **Balance Sheet:** Net assets on the right instead of equity.\\n* **Income Statement:** Revenue on top, expenses below, with Net Income or Loss at the bottom.\\n* **Statement of Financial Position:** Similar to a balance sheet but includes additional information on restricted and unrestricted funds.\\n\\n**Reasons:**\\n* Non-profits are not profit-oriented and aim to fulfill a mission or provide a service.\\n* Net assets reflect the entity's resources minus its obligations.\\n* The Statement of Financial Position provides a more comprehensive view of the entity's financial resources.\\n\\n**3. Government Entities:**\\n* **Government-Wide Financial Statements:** Include all governmental activities, including those funded by taxes and other sources.\\n* **Component Unit Financial Statements:** Prepared for departments or agencies that have separate economic entities.\\n* **Proprietary Fund Financial Statements:** Used for activities that charge fees or are operated like businesses.\\n\\n**Reasons:**\\n* Government entities have complex structures and funding sources, requiring comprehensive reporting.\\n* Government-wide statements present a consolidated financial picture of all governmental operations.\\n* Component unit statements provide financial information for specific departments or agencies.\\n* Proprietary fund statements follow business-like accounting principles for activities funded primarily by user fees.\\n\\n**4. International Financial Reporting Standards (IFRS)**\\n* Used by publicly traded companies in over 140 countries.\\n* Similar to US GAAP but with some differences in accounting methods.\\n\\n**Reasons:**\\n* IFRS aims to create a standardized set of accounting rules for global businesses.\\n* Promotes transparency and comparability across international markets.\\n* Enhances the credibility of financial reporting for investors and other users.\",\n",
       " \"**Accounting Treatment of Contingent Liabilities**\\n\\nA contingent liability is a potential obligation that exists when a third party has a legal claim against a company and the outcome of the claim is uncertain.\\n\\nAccording to the International Financial Reporting Standard (IFRS) 37 Provisions, Contingent Liabilities, and Contingent Assets, contingent liabilities are recognized and measured based on the following criteria:\\n\\n* **Probable:** It is more likely than not that the obligation will crystallize (become an actual liability).\\n* **Measurable:** The amount of the obligation can be reasonably estimated.\\n\\nIf these criteria are met, the contingent liability is recorded as an expense or loss and disclosed in the financial statements. If the criteria are not met, the contingent liability is disclosed in the notes to the financial statements.\\n\\n**Potential Implications for Financial Reporting**\\n\\nThe accounting treatment of contingent liabilities can have significant implications for financial reporting:\\n\\n* **Understatement of Liabilities:** If a contingent liability is not recognized or is underestimated, the financial statements may present an incomplete picture of the company's financial position.\\n* **Overstatement of Liabilities:** If a contingent liability is recognized and measured excessively, the financial statements may overstate the company's liabilities and reduce its net income and equity.\\n* **Unpredictable Earnings:** Contingent liabilities can arise from lawsuits, environmental claims, or other uncertain events. The crystallization of these liabilities can lead to unexpected expenses and unpredictable earnings.\\n* **Investor Confidence:** Failure to adequately disclose contingent liabilities can erode investor confidence in the reliability of the financial statements.\\n* **Debt Covenants:** Contingent liabilities can affect a company's ability to comply with debt covenants, such as those related to debt-to-equity ratios.\\n* **Financial Planning:** Companies need to consider the potential financial impact of contingent liabilities when making business decisions and forecasting future cash flows.\\n\\n**Disclosure Requirements**\\n\\nCompanies are required to disclose contingent liabilities in the notes to the financial statements, even if they are not recognized in the balance sheet. The disclosure should include:\\n\\n* A description of the nature of the contingent liability.\\n* The probability of the liability crystallizing.\\n* The estimated amount of the liability (if measurable).\\n* The potential impact on the company's financial position and results of operations.\\n\\n**Conclusion**\\n\\nContingent liabilities are an important aspect of financial reporting. Proper accounting treatment and disclosure of contingent liabilities are essential for accurate and transparent financial statements. By carefully considering the criteria for recognition and measurement, companies can avoid potential misstatements and ensure that investors and other stakeholders have a clear understanding of the company's financial position and risks.\",\n",
       " \"**Importance of Notes to Financial Statements**\\n\\nNotes to financial statements are crucial for understanding and interpreting the financial performance and position of a company. They provide additional information and context that cannot be presented effectively in the financial statements themselves. This information helps users:\\n\\n* **Gain a deeper understanding of the company:** Notes disclose details about the company's business model, industry, accounting policies, and management structure.\\n* **Reconcile and analyze financial data:** Notes provide supporting schedules and explanations that allow users to understand how financial statement items are calculated and relate to each other.\\n* **Evaluate the company's financial health and risks:** Notes disclose information about contingencies, commitments, and other factors that may impact future financial outcomes.\\n* **Make informed investment and lending decisions:** Notes provide insights into the company's operations, financial stability, and prospects, which are essential for making sound financial decisions.\\n\\n**Types of Information Typically Disclosed in Notes**\\n\\nNotes to financial statements typically include the following types of information:\\n\\n* **Accounting policies:** Disclosure of the specific accounting principles and methods used in preparing the financial statements.\\n* **Significant estimates:** Explanation of any significant judgments or estimates made in the financial statements, such as depreciation expense or fair value estimates.\\n* **Contingencies and commitments:** Details about legal proceedings, guarantees, or other commitments that may affect the company's future financial position.\\n* **Segment information:** Disclosure of financial information for different segments of the company's operations, providing insights into its revenue sources and profitability.\\n* **Related-party transactions:** Information about transactions between the company and its related parties, such as affiliates or directors.\\n* **Off-balance sheet arrangements:** Disclosure of arrangements that have a financial impact on the company but are not reflected on the balance sheet, such as operating leases or contingent liabilities.\\n* **Supplementary schedules:** Supporting schedules that provide additional details about specific financial statement items, such as inventory aging or accounts receivable turnover.\\n* **Changes in accounting principles:** Explanation of any changes in accounting policies and the impact on the financial statements.\\n* **Management's discussion and analysis (MD&A):** A narrative discussion by management about the company's financial performance, operations, and future prospects.\",\n",
       " '**Objectives of the Conceptual Framework for Financial Reporting**\\n\\nThe Financial Accounting Standards Board (FASB) Conceptual Framework provides a conceptual foundation for developing and evaluating accounting standards. Its primary objectives are to:\\n\\n* **Define reporting objectives:** Establish the fundamental purposes and goals of financial reporting.\\n* **Provide a basis for resolving accounting issues:** Guide the development of specific accounting standards by resolving underlying concepts and principles.\\n* **Enhance the coherence and consistency of accounting standards:** Ensure that individual standards are aligned with a comprehensive and logical framework.\\n* **Improve the quality of financial reporting:** Promote accurate, relevant, and useful information for users of financial statements.\\n\\n**How it Guides the Development of Accounting Standards**\\n\\nThe Conceptual Framework guides the development of accounting standards through the following processes:\\n\\n* **Identifying Fundamental Concepts:** The framework defines key concepts such as assets, liabilities, equity, income, and expenses. These definitions provide a common foundation for understanding and evaluating accounting transactions and events.\\n* **Establishing Measurement Attributes:** The framework specifies the qualitative characteristics of accounting information, such as relevance, reliability, comparability, and timeliness. These attributes guide the selection of measurement bases and valuation methods.\\n* **Determining Recognition Criteria:** The framework establishes criteria for recognizing elements of financial statements, such as when assets and liabilities become probable and measurable. These criteria ensure that only material and reliable information is reported.\\n* **Providing Reporting Principles:** The framework includes principles for preparing financial statements, such as the accrual basis of accounting, the going concern concept, and the matching principle. These principles provide consistency and comparability in financial reporting.\\n* **Evaluating New Issues:** As new accounting issues arise, the Conceptual Framework provides a set of principles and concepts to assist in the development of appropriate standards. This facilitates the resolution of complex and emerging accounting issues.\\n\\nBy providing a coherent and comprehensive framework, the Conceptual Framework assists the FASB and other standard-setting bodies in developing accounting standards that meet the objectives of financial reporting and enhance the quality and consistency of financial information provided to users.',\n",
       " \"**Qualitative Characteristics of Financial Information**\\n\\nThe International Accounting Standards Board (IASB) has identified four qualitative characteristics that enhance the usefulness of financial information for decision-making:\\n\\n**1. Relevance**\\n* Information is relevant if it can influence economic decisions by providing information about past, present, or future events.\\n* It helps users understand the financial performance and position of an entity.\\n\\n**2. Faithful Representation**\\n* Financial information should be free from material misstatement and represent the economic reality of the entity.\\n* It ensures that financial statements accurately reflect the underlying transactions and events.\\n\\n**3. Comparability**\\n* Users can compare financial information across different entities and over time to assess performance and trends.\\n* Consistency in accounting policies and principles promotes comparability.\\n\\n**4. Understandability**\\n* Financial information should be presented in a clear and concise manner that is easy to comprehend.\\n* This allows users to make informed judgments based on financial statements.\\n\\n**Importance of Qualitative Characteristics**\\n\\nThese qualitative characteristics are essential in assessing the usefulness of financial statements because they:\\n\\n* **Enhance Decision Making:** Relevant and reliable information helps users make informed decisions about investments, financing, and operations.\\n* **Prevent Misinterpretation:** Financial statements that faithfully represent economic reality prevent users from being misled.\\n* **Promote Fair Comparison:** Comparability allows users to evaluate the performance and position of different entities.\\n* **Increase Transparency and Accountability:** Understandable financial statements enhance transparency and accountability by providing clear insights into an entity's financial affairs.\\n* **Contribute to Informed Capital Allocation:** Investors and creditors rely on financial information to make informed decisions about resource allocation.\\n* **Support Effective Regulation:** Regulators use financial information to ensure compliance with regulatory requirements and protect the interests of investors.\\n* **Enhance Market Efficiency:** Reliable and transparent financial information promotes efficient capital markets by providing accurate information to investors and other market participants.\\n\\nBy considering these qualitative characteristics, users can better assess the usefulness and credibility of financial statements in making informed economic decisions.\",\n",
       " \"**Role of the Auditor in the Financial Reporting Process**\\n\\nAn auditor is an independent professional who examines a company's financial statements to provide an opinion on their accuracy and reliability. Auditors play a crucial role in the financial reporting process by ensuring that the financial statements fairly represent the company's financial position and performance.\\n\\n**Key Audit Procedures**\\n\\nTo ensure the accuracy and reliability of financial statements, auditors typically perform the following key audit procedures:\\n\\n**1. Risk Assessment:**\\n\\nAuditors assess the risk of material misstatement in the financial statements by understanding the company's business operations, industry, and regulatory environment.\\n\\n**2. Analytical Procedures:**\\n\\nAuditors analyze trends, ratios, and other financial data to identify any unusual or unexpected patterns that may indicate potential misstatements.\\n\\n**3. Internal Control Testing:**\\n\\nAuditors evaluate the effectiveness of the company's internal controls to prevent or detect material misstatements. They test key controls to ensure they are functioning properly.\\n\\n**4. Substantive Procedures:**\\n\\n**a. Analytical Review:** Auditors analyze financial data to identify significant fluctuations, trends, or other anomalies that may indicate misstatements.\\n\\n**b. Vouching:** Auditors verify the accuracy and completeness of transactions by examining supporting documentation such as invoices and bank statements.\\n\\n**c. Physical Inspection:** Auditors physically observe assets, such as inventory, to confirm their existence and condition.\\n\\n**d. Confirmation:** Auditors send requests to third parties, such as customers and banks, to verify the accuracy of account balances and other information.\\n\\n**5. Financial Statement Review:**\\n\\nAuditors review the final financial statements to ensure that they are presented fairly in accordance with applicable accounting standards and that they are consistent with the underlying audit evidence.\\n\\n**6. Opinion Formation:**\\n\\nBased on the results of their audit procedures, auditors form an opinion on the accuracy and reliability of the financial statements. This opinion is expressed in an audit report that is issued to the company and its stakeholders.\\n\\n**Importance of Audit Procedures**\\n\\nBy performing these audit procedures, auditors provide reasonable assurance that the financial statements are accurate and reliable, which is essential for:\\n\\n* Providing investors and creditors with a trustworthy basis for decision-making\\n* Maintaining investor confidence in the capital markets\\n* Ensuring compliance with regulatory requirements\\n* Detecting and preventing fraud and financial misconduct\",\n",
       " \"**Types of Financial Ratios**\\n\\n**1. Liquidity Ratios:**\\n\\n* **Current Ratio:** Measures a company's short-term liquidity (Current Assets / Current Liabilities)\\n* **Quick Ratio:** Excludes inventory from current assets to assess quick liquidity (Liquid Assets / Current Liabilities)\\n* **Cash Ratio:** Measures a company's immediate liquidity (Cash and Cash Equivalents / Current Liabilities)\\n\\n**2. Solvency Ratios:**\\n\\n* **Debt-to-Equity Ratio:** Assesses the proportion of debt to owner equity (Total Debt / Total Equity)\\n* **Debt-to-Asset Ratio:** Measures the proportion of total debt to total assets (Total Debt / Total Assets)\\n* **Interest Coverage Ratio:** Indicates a company's ability to cover interest payments (EBIT / Interest Expense)\\n\\n**3. Efficiency Ratios:**\\n\\n* **Inventory Turnover:** Measures how quickly a company sells its inventory (Cost of Goods Sold / Average Inventory)\\n* **Days Sales Outstanding (DSO):** Assesses the average time it takes customers to pay their invoices (Average Accounts Receivable * 365 / Net Sales)\\n* **Asset Turnover:** Indicates a company's efficiency in using its assets (Net Sales / Average Total Assets)\\n\\n**4. Profitability Ratios:**\\n\\n* **Gross Profit Margin:** Measures the profit margin on sales (Gross Profit / Net Sales)\\n* **Operating Profit Margin:** Assesses the profit margin from core operations (Operating Income / Net Sales)\\n* **Net Profit Margin:** Indicates the overall profitability of a company (Net Income / Net Sales)\\n\\n**5. Return on Investment (ROI) Ratios:**\\n\\n* **Return on Equity (ROE):** Assesses the return to shareholders (Net Income / Total Equity)\\n* **Return on Assets (ROA):** Measures the return on all assets employed (Net Income / Average Total Assets)\\n\\n**Limitations of Financial Ratios:**\\n\\n* **Industry-specific:** Ratios can vary significantly between different industries.\\n* **Historical in nature:** Ratios only reflect past performance and may not predict future results.\\n* **Can be manipulated:** Companies can manipulate financial statements to present more favorable ratios.\\n* **Subjective interpretations:** Different analysts may interpret ratios differently.\\n* **Limited context:** Ratios often provide a narrow view of a company's performance and should be considered in conjunction with other information.\\n* **Financial ratios are not always reliable or up-to-date due to the time lag in financial reporting.**\\n* **Financial ratios can be distorted by accounting practices, such as the use of different depreciation methods.**\\n* **Financial ratios can be affected by external factors, such as economic conditions or changes in government regulations.**\",\n",
       " \"**Ethical Considerations in Financial Reporting**\\n\\nAccountants play a crucial role in ensuring the accuracy, transparency, and reliability of financial information. They face a range of ethical considerations in the preparation and reporting of financial statements, including:\\n\\n* **Honesty and Objectivity:** Accountants must present financial information without bias or personal interest. They should avoid misrepresentation or omission of material information.\\n* **Integrity:** Accountants must maintain high ethical standards and avoid any actions that could compromise their reputation or the trust of stakeholders.\\n* **Due Professional Care:** Accountants must exercise reasonable care and diligence in performing their duties. They should follow appropriate accounting standards and procedures.\\n* **Confidentiality:** Accountants have a duty to protect the confidentiality of information obtained during audits or other services.\\n* **Professionalism:** Accountants should conduct themselves in a professional and ethical manner, adhering to the ethical rules of their governing bodies.\\n* **Independence:** Auditors must be free from conflicts of interest and relationships that could impair their objectivity and independence.\\n* **Public Interest:** Accountants have a responsibility to act in the public interest, protecting the interests of investors, creditors, and other stakeholders.\\n\\n**Consequences of Violating Ethical Principles**\\n\\nViolating ethical principles in financial reporting can have serious consequences for both accountants and the entities they serve, including:\\n\\n* **Reputational Damage:** Unethical actions can damage the reputation of accountants and the accounting profession as a whole.\\n* **Legal Liability:** Accountants may face legal liability for negligence, fraud, or other violations of ethical principles.\\n* **Loss of Credibility:** If financial statements are found to be inaccurate or misleading, stakeholders lose trust in the company and its management.\\n* **Fines and Penalties:** Regulatory bodies can impose fines or penalties on accountants or entities that violate ethical principles.\\n* **Criminal Charges:** In severe cases, unethical actions can lead to criminal charges, such as fraud or obstruction of justice.\\n* **Damage to Investors and Creditors:** Misleading financial statements can harm investors, creditors, and other stakeholders who rely on the information to make financial decisions.\\n\\n**Ensuring Ethical Conduct**\\n\\nTo ensure ethical conduct in financial reporting, accountants can take the following steps:\\n\\n* **Adhere to Ethical Codes:** Accountants should follow the ethical codes of their governing bodies, such as the American Institute of Certified Public Accountants (AICPA) or the International Federation of Accountants (IFAC).\\n* **Establish Ethical Policies:** Entities should develop and implement clear ethical policies that guide employees' conduct.\\n* **Provide Training and Guidance:** Accountants should receive regular training and guidance on ethical issues.\\n* **Maintain Independence:** Auditors must remain independent of the entities they audit and avoid conflicts of interest.\\n* **Encourage Whistleblower Protection:** Entities should implement whistleblower protection policies to encourage employees to report unethical behavior.\\n* **Foster a Culture of Integrity:** Companies should promote a culture of integrity and ethical conduct throughout the organization.\",\n",
       " \"**Concept of Consolidated Financial Statements**\\n\\nConsolidated financial statements are a single set of financial statements that combine the financial results and positions of a parent company and its controlled subsidiaries. They present the group as a single economic entity, even though the companies operate as separate legal entities.\\n\\n**Reasons for Preparing Consolidated Financial Statements**\\n\\nConsolidated financial statements are prepared for several reasons:\\n\\n**1. Economic Entity:**\\n\\n* The consolidated entity represents the economic reality of the group, as subsidiaries are often highly dependent on the parent company.\\n* Combining the financial statements provides a more comprehensive view of the group's financial performance and position.\\n\\n**2. Group Performance:**\\n\\n* Consolidated financial statements provide investors, creditors, and other stakeholders with a clear understanding of the overall financial health of the group.\\n* They allow for a comparison of the group's performance with industry benchmarks or other companies.\\n\\n**3. Control and Ownership:**\\n\\n* Consolidated financial statements demonstrate the parent company's control over the subsidiaries.\\n* They reflect the parent's proportionate ownership interest in the group's assets, liabilities, income, and expenses.\\n\\n**4. IFRS and GAAP Requirements:**\\n\\n* International Financial Reporting Standards (IFRS) and Generally Accepted Accounting Principles (GAAP) require public companies to prepare consolidated financial statements if they have control over one or more subsidiaries.\\n* This ensures transparency and comparability of financial information across companies.\\n\\n**5. Reduced Complexity:**\\n\\n* Consolidated financial statements simplify the financial analysis process by combining multiple sets of financial statements into a single report.\\n* They eliminate the need to review individual company statements and make adjustments for intercompany transactions.\\n\\n**6. Enhanced Credibility:**\\n\\n* Consolidated financial statements are viewed as more credible than individual company statements, as they represent the financial position and performance of the entire group.\\n* Auditors are able to provide a single opinion on the consolidated financial statements, reducing the risk of inconsistencies and errors.\\n\\n**7. Compliance:**\\n\\n* In some jurisdictions, companies may be legally required to prepare consolidated financial statements if they have a certain level of control over subsidiaries.\\n* This ensures compliance with regulatory requirements and protects the interests of shareholders and creditors.\",\n",
       " '**Accounting Treatment of Goodwill**\\n\\nGoodwill is an intangible asset that represents the excess of the purchase price of an acquired business over the fair value of its identifiable net assets. Under U.S. GAAP (Generally Accepted Accounting Principles), goodwill is reported on the balance sheet and accounted for as follows:\\n\\n* **Initial Recognition:** Goodwill is recorded at the date of acquisition.\\n* **Amortization:** Goodwill is amortized (expensed) over a period not exceeding 10 years. The amortization period is determined based on the estimated useful life of the acquired assets.\\n* **Impairment Testing:** Goodwill is subject to annual impairment testing. If the fair value of goodwill is determined to be less than its carrying amount, an impairment loss is recognized.\\n\\n**Potential Implications for Financial Reporting**\\n\\n**Financial Statement Presentation:** Goodwill is reported as an asset on the balance sheet under the heading \"Intangible Assets.\" The amortization of goodwill is recognized as an expense in the income statement.\\n\\n**Overstatement of Assets:** Goodwill is an intangible asset and its value is often subjective. If goodwill is overstated, it can lead to an overstatement of total assets and potentially inflate the equity of the acquiring company.\\n\\n**Distortion of Income:** The amortization of goodwill is an expense that is spread over a specific period. If the estimated useful life of the acquired assets is overstated, it can result in an understatement of current income and an overstatement of future income.\\n\\n**Impairment Losses:** Impairment testing can identify when the fair value of goodwill has declined. If an impairment loss is recognized, it can result in a significant reduction in the acquiring company\\'s net income and equity.\\n\\n**Additional Considerations:**\\n\\n* Goodwill should be carefully evaluated and documented during the acquisition process to ensure that its fair value is accurately determined.\\n* Auditors carefully review the amortization period and impairment testing process to ensure that they are appropriate and compliant with GAAP.\\n* Investors and financial analysts should be aware of the potential implications of goodwill on the financial reporting of acquiring companies.',\n",
       " \"**Role of Internal Control in Financial Reporting**\\n\\nInternal control plays a crucial role in ensuring the reliability and integrity of financial reporting. It helps in safeguarding assets, preventing fraud and errors, and promoting accurate and transparent financial information. By establishing a strong internal control system, companies can:\\n\\n* Enhance the accuracy and completeness of their financial statements.\\n* Ensure timely and reliable financial reporting to stakeholders.\\n* Protect against unauthorized access and misuse of company assets.\\n* Prevent and detect errors or fraud that could undermine the credibility of the financial reporting process.\\n* Comply with regulatory requirements and industry best practices.\\n\\n**Key Components of an Effective Internal Control System**\\n\\nAn effective internal control system comprises the following key components:\\n\\n**1. Control Environment:**\\n* Sets the tone at the top and establishes ethical values, integrity, and accountability within the organization.\\n* Includes board of directors' oversight, management philosophy, and organizational structure.\\n\\n**2. Risk Assessment:**\\n* Identifies, analyzes, and manages the risks that could affect financial reporting.\\n* Considers internal and external factors, as well as the likelihood and potential impact of risks.\\n\\n**3. Control Activities:**\\n* Policies and procedures designed to mitigate identified risks in the financial reporting process.\\n* Examples include authorization of transactions, reconciliation of accounts, and physical inventory counts.\\n\\n**4. Information and Communication:**\\n* Captures and communicates relevant financial and non-financial information for internal decision-making and external reporting.\\n* Ensures that all necessary information is available to those who need it.\\n\\n**5. Monitoring:**\\n* Ongoing evaluation and assessment of the effectiveness of internal controls.\\n* Monitors the implementation, adherence, and effectiveness of control activities.\\n\\n**Additional Considerations:**\\n\\n* **Segregation of Duties:** Assigning different responsibilities to different individuals to prevent collusion and errors.\\n* **Access Controls:** Establishing appropriate access rights to company systems and assets.\\n* **Reconciliations:** Periodically comparing records to ensure accuracy and completeness.\\n* **Documentation:** Maintaining written policies and procedures to formalize internal controls.\\n* **Internal Audit Function:** An independent function that reviews and evaluates the effectiveness of internal controls.\\n\\nBy implementing and maintaining an effective internal control system, companies can improve the quality of their financial reporting, enhance stakeholder confidence, and protect their financial assets. It is essential for all organizations to prioritize internal control as a key aspect of their financial management framework.\",\n",
       " \"**Concept of Segment Reporting**\\n\\nSegment reporting refers to the practice of disclosing financial information for different operating segments within a company. Segments are distinct units or divisions of a company that have different products, services, customers, or geographic locations.\\n\\nBy presenting financial data for each segment, segment reporting provides users of financial statements, such as investors, creditors, and analysts, with a disaggregated view of a company's operations.\\n\\n**Importance of Segment Reporting**\\n\\nSegment reporting is important for several reasons:\\n\\n* **Improved Transparency and Understanding:** It allows users to understand the company's operations and performance from a segmental perspective. This helps users identify the segments that are driving growth and profitability, as well as those facing challenges.\\n* **Identification of Risks and Opportunities:** By segmenting financial data, users can identify risks and opportunities associated with specific segments. This information helps investors make informed investment decisions and analysts assess the company's overall risk profile.\\n* **Comparison with Competitors:** Segment reporting enables users to compare the performance of different segments within a company and with similar segments of competitor companies. This allows users to assess the company's competitive position and market share.\\n* **Regulatory Requirements:** Many countries, including the United States, have regulations that require publicly traded companies to provide segment reporting. These regulations aim to ensure that financial statements provide a comprehensive and transparent view of a company's operations.\\n* **Understanding Management's Strategy:** Segment reporting helps users understand the management's strategy by showing how revenue, expenses, and profits are allocated across different segments. This information provides insights into the company's growth plans and competitive positioning.\\n\\n**Disclosure Requirements**\\n\\nThe International Financial Reporting Standards (IFRS) and the Generally Accepted Accounting Principles (GAAP) provide guidance on segment reporting requirements. These include:\\n\\n* **Definition of Segments:** Companies must identify their operating segments based on factors such as revenue, profit, and geographic location.\\n* **Quantitative Disclosures:** Companies must disclose revenue, profit or loss, and other relevant financial data for each segment.\\n* **Qualitative Disclosures:** Companies must also provide qualitative information, such as a description of each segment's products or services, customers, and competitive landscape.\\n\\nBy providing a disaggregated view of a company's operations, segment reporting improves transparency, aids in risk analysis and investment decision-making, and helps users better understand the company's strategy.\",\n",
       " \"**Accounting Treatment of Foreign Currency Transactions**\\n\\nForeign currency transactions arise when a company engages in business with entities operating in different currencies. The accounting treatment of these transactions is governed by accounting standards such as International Financial Reporting Standard (IFRS) 9 and US Generally Accepted Accounting Principles (GAAP) ASC 830.\\n\\n**Steps Involved:**\\n\\n1. **Transaction Date:** Foreign currency transactions are recorded at the exchange rate prevailing on the date of the transaction.\\n2. **Measurement:** Monetary items (e.g., cash, accounts receivable) are translated at the current exchange rate. Non-monetary items (e.g., inventory) are translated using the historical exchange rate, which is the rate applicable when the item was acquired or recognized.\\n3. **Recognition of Gains/Losses:** When the exchange rate changes between the transaction date and the financial reporting date, gains or losses are recognized in the income statement.\\n4. **Presentation:** Foreign currency transactions are presented in the financial statements using the functional currency of the reporting entity. If the functional currency is different from the currency of the transaction, a foreign currency translation adjustment account is used to adjust the values accordingly.\\n\\n**Potential Implications for Financial Reporting:**\\n\\n**1. Currency Fluctuations:** Currency fluctuations can significantly impact a company's financial results. Gains or losses arising from foreign currency transactions can affect the company's income statement and balance sheet.\\n\\n**2. Economic Dependence:** Companies with significant operations or transactions in foreign currencies are more exposed to foreign exchange risk, which can impact their economic stability.\\n\\n**3. Comparative Analysis:** Comparing financial statements across periods or against competitors may be challenging due to the impact of foreign currency translation.\\n\\n**4. Consolidation of Foreign Subsidiaries:** When a company consolidates the financial statements of its foreign subsidiaries, it needs to translate the subsidiaries' financial statements into the reporting entity's functional currency using appropriate exchange rates and methods.\\n\\n**5. Compliance with Regulations:** Companies must adhere to the accounting standards and regulations applicable to their jurisdiction when handling foreign currency transactions. Non-compliance can result in financial statement misstatements and potential legal consequences.\\n\\n**Mitigating Foreign Currency Risk:**\\n\\nCompanies can mitigate foreign currency risk through various strategies, such as:\\n\\n* Hedging using financial instruments (e.g., forward contracts, options)\\n* Matching assets and liabilities in foreign currencies\\n* Establishing natural currency hedges (e.g., having subsidiaries in countries with the same functional currency)\\n* Diversifying operations across different currencies\",\n",
       " '**Challenges Faced by Accountants in Adapting Financial Reporting Standards to the Changing Business Environment**\\n\\n**1. Rapid Technological Advancements:**\\n\\n* The rise of blockchain, artificial intelligence, and data analytics has transformed business operations and financial transactions.\\n* Accountants must navigate the complexities and implications of these technologies on financial reporting.\\n\\n**2. Globalization and Convergence:**\\n\\n* International expansion and the adoption of global accounting standards (e.g., IFRS) require accountants to understand diverse regulatory frameworks.\\n* Cross-border transactions and reporting must be harmonized to ensure comparability and transparency.\\n\\n**3. Evolving Business Models:**\\n\\n* Subscription services, ride-sharing platforms, and other innovative business models pose accounting challenges.\\n* Accountants must develop guidance and best practices to address revenue recognition, asset valuation, and expense classification.\\n\\n**4. Sustainability and Climate Change:**\\n\\n* Growing demand for sustainable investments and environmental disclosures requires accountants to integrate non-financial information into financial reporting.\\n* Accountants must consider the financial impacts of climate-related risks and opportunities.\\n\\n**5. Data Overload and Complexity:**\\n\\n* The proliferation of electronic data and unstructured information makes it challenging to extract, analyze, and report on relevant financial information.\\n* Accountants must develop tools and techniques to manage and interpret large datasets.\\n\\n**6. Shifting Regulatory Landscape:**\\n\\n* Regulatory changes and updates to accounting standards create ongoing learning and adaptation needs for accountants.\\n* Accountants must stay abreast of regulatory developments and their implications for financial reporting.\\n\\n**7. Lack of Global Standards for Non-Financial Reporting:**\\n\\n* While financial reporting has standardized to a certain extent, non-financial reporting (e.g., sustainability) still lacks global standards.\\n* Accountants must collaborate to develop consistent and comparable reporting frameworks.\\n\\n**8. Resource Constraints:**\\n\\n* Accountants may face limited resources, such as time and funding, to adapt to the changing business environment.\\n* Organizations must prioritize investments in accounting technology and professional development.\\n\\n**9. Resistance to Change:**\\n\\n* Some organizations and stakeholders may be reluctant to embrace new accounting standards or reporting practices.\\n* Accountants must communicate the benefits and address concerns to facilitate adoption.\\n\\n**10. Ethical Implications:**\\n\\n* The changing business environment and evolving accounting standards can present ethical dilemmas for accountants.\\n* Accountants must maintain their professional integrity and prioritize transparent, reliable financial reporting.']"
      ]
     },
     "execution_count": 36,
     "metadata": {},
     "output_type": "execute_result"
    }
   ],
   "source": [
    "answers = []\n",
    "\n",
    "for question in result['Question']:\n",
    "    answers.append(generate_answer(question))\n",
    "\n",
    "answers"
   ]
  },
  {
   "cell_type": "code",
   "execution_count": 38,
   "metadata": {},
   "outputs": [
    {
     "data": {
      "text/html": [
       "<div>\n",
       "<style scoped>\n",
       "    .dataframe tbody tr th:only-of-type {\n",
       "        vertical-align: middle;\n",
       "    }\n",
       "\n",
       "    .dataframe tbody tr th {\n",
       "        vertical-align: top;\n",
       "    }\n",
       "\n",
       "    .dataframe thead th {\n",
       "        text-align: right;\n",
       "    }\n",
       "</style>\n",
       "<table border=\"1\" class=\"dataframe\">\n",
       "  <thead>\n",
       "    <tr style=\"text-align: right;\">\n",
       "      <th></th>\n",
       "      <th>Unnamed: 0</th>\n",
       "      <th>Question</th>\n",
       "      <th>Answer</th>\n",
       "    </tr>\n",
       "  </thead>\n",
       "  <tbody>\n",
       "    <tr>\n",
       "      <th>0</th>\n",
       "      <td>1</td>\n",
       "      <td>Explain the concept of materiality in financia...</td>\n",
       "      <td>**Concept of Materiality in Financial Reportin...</td>\n",
       "    </tr>\n",
       "    <tr>\n",
       "      <th>1</th>\n",
       "      <td>2</td>\n",
       "      <td>Describe the different financial statement for...</td>\n",
       "      <td>**Different Financial Statement Formats**\\n\\nT...</td>\n",
       "    </tr>\n",
       "    <tr>\n",
       "      <th>2</th>\n",
       "      <td>3</td>\n",
       "      <td>Discuss the accounting treatment of contingent...</td>\n",
       "      <td>**Accounting Treatment of Contingent Liabiliti...</td>\n",
       "    </tr>\n",
       "    <tr>\n",
       "      <th>3</th>\n",
       "      <td>4</td>\n",
       "      <td>Explain the importance of notes to financial s...</td>\n",
       "      <td>**Importance of Notes to Financial Statements*...</td>\n",
       "    </tr>\n",
       "    <tr>\n",
       "      <th>4</th>\n",
       "      <td>5</td>\n",
       "      <td>Describe the objectives of the conceptual fram...</td>\n",
       "      <td>**Objectives of the Conceptual Framework for F...</td>\n",
       "    </tr>\n",
       "    <tr>\n",
       "      <th>5</th>\n",
       "      <td>6</td>\n",
       "      <td>Discuss the qualitative characteristics of fin...</td>\n",
       "      <td>**Qualitative Characteristics of Financial Inf...</td>\n",
       "    </tr>\n",
       "    <tr>\n",
       "      <th>6</th>\n",
       "      <td>7</td>\n",
       "      <td>Explain the role of the auditor in the financi...</td>\n",
       "      <td>**Role of the Auditor in the Financial Reporti...</td>\n",
       "    </tr>\n",
       "    <tr>\n",
       "      <th>7</th>\n",
       "      <td>8</td>\n",
       "      <td>Describe the different types of financial rati...</td>\n",
       "      <td>**Types of Financial Ratios**\\n\\n**1. Liquidit...</td>\n",
       "    </tr>\n",
       "    <tr>\n",
       "      <th>8</th>\n",
       "      <td>9</td>\n",
       "      <td>Discuss the ethical considerations that accoun...</td>\n",
       "      <td>**Ethical Considerations in Financial Reportin...</td>\n",
       "    </tr>\n",
       "    <tr>\n",
       "      <th>9</th>\n",
       "      <td>10</td>\n",
       "      <td>Explain the concept of consolidated financial ...</td>\n",
       "      <td>**Concept of Consolidated Financial Statements...</td>\n",
       "    </tr>\n",
       "    <tr>\n",
       "      <th>10</th>\n",
       "      <td>11</td>\n",
       "      <td>Describe the accounting treatment of goodwill ...</td>\n",
       "      <td>**Accounting Treatment of Goodwill**\\n\\nGoodwi...</td>\n",
       "    </tr>\n",
       "    <tr>\n",
       "      <th>11</th>\n",
       "      <td>12</td>\n",
       "      <td>Discuss the role of internal control in financ...</td>\n",
       "      <td>**Role of Internal Control in Financial Report...</td>\n",
       "    </tr>\n",
       "    <tr>\n",
       "      <th>12</th>\n",
       "      <td>13</td>\n",
       "      <td>Explain the concept of segment reporting and i...</td>\n",
       "      <td>**Concept of Segment Reporting**\\n\\nSegment re...</td>\n",
       "    </tr>\n",
       "    <tr>\n",
       "      <th>13</th>\n",
       "      <td>14</td>\n",
       "      <td>Describe the accounting treatment of foreign c...</td>\n",
       "      <td>**Accounting Treatment of Foreign Currency Tra...</td>\n",
       "    </tr>\n",
       "    <tr>\n",
       "      <th>14</th>\n",
       "      <td>15</td>\n",
       "      <td>Discuss the challenges faced by accountants in...</td>\n",
       "      <td>**Challenges Faced by Accountants in Adapting ...</td>\n",
       "    </tr>\n",
       "  </tbody>\n",
       "</table>\n",
       "</div>"
      ],
      "text/plain": [
       "    Unnamed: 0                                           Question  \\\n",
       "0            1  Explain the concept of materiality in financia...   \n",
       "1            2  Describe the different financial statement for...   \n",
       "2            3  Discuss the accounting treatment of contingent...   \n",
       "3            4  Explain the importance of notes to financial s...   \n",
       "4            5  Describe the objectives of the conceptual fram...   \n",
       "5            6  Discuss the qualitative characteristics of fin...   \n",
       "6            7  Explain the role of the auditor in the financi...   \n",
       "7            8  Describe the different types of financial rati...   \n",
       "8            9  Discuss the ethical considerations that accoun...   \n",
       "9           10  Explain the concept of consolidated financial ...   \n",
       "10          11  Describe the accounting treatment of goodwill ...   \n",
       "11          12  Discuss the role of internal control in financ...   \n",
       "12          13  Explain the concept of segment reporting and i...   \n",
       "13          14  Describe the accounting treatment of foreign c...   \n",
       "14          15  Discuss the challenges faced by accountants in...   \n",
       "\n",
       "                                               Answer  \n",
       "0   **Concept of Materiality in Financial Reportin...  \n",
       "1   **Different Financial Statement Formats**\\n\\nT...  \n",
       "2   **Accounting Treatment of Contingent Liabiliti...  \n",
       "3   **Importance of Notes to Financial Statements*...  \n",
       "4   **Objectives of the Conceptual Framework for F...  \n",
       "5   **Qualitative Characteristics of Financial Inf...  \n",
       "6   **Role of the Auditor in the Financial Reporti...  \n",
       "7   **Types of Financial Ratios**\\n\\n**1. Liquidit...  \n",
       "8   **Ethical Considerations in Financial Reportin...  \n",
       "9   **Concept of Consolidated Financial Statements...  \n",
       "10  **Accounting Treatment of Goodwill**\\n\\nGoodwi...  \n",
       "11  **Role of Internal Control in Financial Report...  \n",
       "12  **Concept of Segment Reporting**\\n\\nSegment re...  \n",
       "13  **Accounting Treatment of Foreign Currency Tra...  \n",
       "14  **Challenges Faced by Accountants in Adapting ...  "
      ]
     },
     "execution_count": 38,
     "metadata": {},
     "output_type": "execute_result"
    }
   ],
   "source": [
    "result['Answer'] = answers\n",
    "result"
   ]
  },
  {
   "cell_type": "code",
   "execution_count": null,
   "metadata": {},
   "outputs": [],
   "source": [
    "# result['Answer'] = result['Question'].apply(generate_answer)\n",
    "# result['Answer']"
   ]
  },
  {
   "cell_type": "code",
   "execution_count": 39,
   "metadata": {},
   "outputs": [
    {
     "data": {
      "text/plain": [
       "\"**Concept of Materiality in Financial Reporting**\\n\\nMateriality is a fundamental concept in financial reporting that refers to the significance of financial information that should be disclosed in the financial statements. It determines whether an item must be disclosed to avoid misleading users of the financial statements.\\n\\n**Significance of Materiality**\\n\\nMateriality ensures that only information that has a significant impact on the financial position, results of operations, or cash flows of a company is included in the financial statements. It helps prevent clutter and focuses attention on the most important aspects of a company's financial performance.\\n\\n**Determining Materiality**\\n\\nDetermining materiality is a judgmental process that considers both qualitative and quantitative factors:\\n\\n**Qualitative Factors:**\\n\\n* Nature of the item\\n* Potential impact on decision-making\\n* Sensitivity of users of the financial statements\\n\\n**Quantitative Factors:**\\n\\n* Size or magnitude of the item\\n* Percentage of total assets, revenue, or expenses\\n* Trend analysis\\n\\n**Materiality Threshold**\\n\\nCompanies establish a materiality threshold, which is the minimum level of significance that an item must meet to be disclosed. This threshold may vary depending on the size, industry, and complexity of the company.\\n\\n**Disclosure Requirements**\\n\\nItems that meet or exceed the materiality threshold must be disclosed in the financial statements. This may include:\\n\\n* Unusual gains or losses\\n* Contingent liabilities\\n* Related-party transactions\\n* Subsequent events\\n* Off-balance sheet items\\n\\n**Significance**\\n\\nMateriality plays a crucial role in:\\n\\n* **Preventing financial statement fraud:** By focusing on disclosing only significant items, it helps minimize the risk of intentional or unintentional misstatements.\\n* **Improving financial statement analysis:** Users can more easily understand and interpret the financial statements by focusing on the most material information.\\n* **Ensuring transparency:** Materiality promotes transparency by requiring companies to disclose information that could materially affect their financial position or performance.\\n* **Reducing accounting costs:** By limiting disclosures to material items, companies can reduce the time and resources spent on reporting.\\n\\n**Conclusion**\\n\\nMateriality is a key concept in financial reporting that ensures the disclosure of only significant information in the financial statements. By considering both qualitative and quantitative factors, companies can determine the materiality threshold and disclose items that have a meaningful impact on their financial performance. This helps users analyze and understand the company's financial position and make informed decisions.\""
      ]
     },
     "execution_count": 39,
     "metadata": {},
     "output_type": "execute_result"
    }
   ],
   "source": [
    "result['Answer'][0]"
   ]
  },
  {
   "cell_type": "code",
   "execution_count": null,
   "metadata": {},
   "outputs": [],
   "source": []
  },
  {
   "cell_type": "code",
   "execution_count": null,
   "metadata": {},
   "outputs": [],
   "source": []
  }
 ],
 "metadata": {
  "kernelspec": {
   "display_name": "Python 3",
   "language": "python",
   "name": "python3"
  },
  "language_info": {
   "codemirror_mode": {
    "name": "ipython",
    "version": 3
   },
   "file_extension": ".py",
   "mimetype": "text/x-python",
   "name": "python",
   "nbconvert_exporter": "python",
   "pygments_lexer": "ipython3",
   "version": "3.11.2"
  }
 },
 "nbformat": 4,
 "nbformat_minor": 2
}
